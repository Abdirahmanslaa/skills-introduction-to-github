{
  "cells": [
    {
      "cell_type": "markdown",
      "id": "d9020474",
      "metadata": {
        "id": "d9020474"
      },
      "source": [
        "<div style=\"text-align:center;\">\n",
        "  <img src=\"https://github.com/MolSSI-Education/iqb-2025/blob/main/images/molssi_main_outline.png?raw=true\\\" style=\"display: block; margin: 0 auto; max-height:200px;\">\n",
        "</div>\n",
        "\n",
        "\n",
        "# Introduction to RDKit Molecules\n",
        "\n",
        "<strong>Author(s):</strong> Jessica A. Nash, The Molecular Sciences Software Institute\n",
        "\n",
        "<div class=\"alert alert-block alert-info\">\n",
        "<h2>Overview</h2>\n",
        "\n",
        "<strong>Questions:</strong>\n",
        "\n",
        "* What is RDKit?\n",
        "\n",
        "* What is an RDKit molecule object?\n",
        "\n",
        "* What can I do with RDKit molecules?\n",
        "\n",
        "<strong>Objectives:</strong>\n",
        "\n",
        "* Use RDKit to create molecules in Python\n",
        "\n",
        "</div>\n",
        "\n",
        "There are Python libraries that are made for working just with chemical data. One commonly used library in Python for data science (or cheminformatics) is called [RDKit](https://en.wikipedia.org/wiki/RDKit). RDKit is an open-source cheminformatics library, primarily developed in C++ and has been under development since the year 2000. We will be using the Python interface to RDKit, though there are interfaces in other languages.\n",
        "\n",
        "RDKit provides a molecule object that allows you to manipulate chemical structures. It has capabilities for reading and writing molecular file formats, calculating molecular properties, and performing substructure searches. In addition, it offers a wide range of cheminformatics algorithms such as molecular fingerprint generation, similarity metrics calculation, and molecular descriptor computation. This notebook introduces RDKit basics, but we will see more of all of these topics in later notebooks.\n",
        "\n",
        "<div class=\"alert alert-block alert-success\">\n",
        "<strong>Python Skills: Python Objects</strong>\n",
        "\n",
        "Most of this functionality is achieved through the RDKit `mol` object. In Python, we use the word \"object\" to refer to a variable type with associated data and methods.\n",
        "One example of an object we have seen in notebooks is a list - we could also call it a \"list object\". An object has `attributes` (data) and `methods`.\n",
        "You access information about objects with the syntax\n",
        "```python\n",
        "object.data\n",
        "```\n",
        "where data is the attribute name.\n",
        "\n",
        "You access object methods with the syntax\n",
        "```python\n",
        "object.method(arguments)\n",
        "```\n",
        "\n",
        "For example, for a list \"`append` is a method that was covered in the introductory lesson.\n",
        "\n",
        "```\n",
        "my_list = []\n",
        "my_list.append(1) # \"append\" is a method that can be called for a list\n",
        "```\n",
        "</div>    \n",
        "\n",
        "In this lesson, we will create and manipulate RDKit `mol` objects. RDKit `mol` objects represent molecules and have\n",
        "attributes (data) and methods (actions) associated with molecules.\n",
        "\n",
        "We are going to use a part of RDKit called `Chem`. To use `Chem`, we first have to import it."
      ]
    },
    {
      "cell_type": "code",
      "execution_count": 1,
      "id": "eFjTn5wMHixe",
      "metadata": {
        "id": "eFjTn5wMHixe",
        "outputId": "0f99f752-6701-465d-9f37-709ca5fc7f8b",
        "colab": {
          "base_uri": "https://localhost:8080/"
        }
      },
      "outputs": [
        {
          "output_type": "stream",
          "name": "stdout",
          "text": [
            "Collecting rdkit\n",
            "  Downloading rdkit-2024.9.6-cp311-cp311-manylinux_2_28_x86_64.whl.metadata (4.0 kB)\n",
            "Requirement already satisfied: numpy in /usr/local/lib/python3.11/dist-packages (from rdkit) (2.0.2)\n",
            "Requirement already satisfied: Pillow in /usr/local/lib/python3.11/dist-packages (from rdkit) (11.2.1)\n",
            "Downloading rdkit-2024.9.6-cp311-cp311-manylinux_2_28_x86_64.whl (34.3 MB)\n",
            "\u001b[2K   \u001b[90m━━━━━━━━━━━━━━━━━━━━━━━━━━━━━━━━━━━━━━━━\u001b[0m \u001b[32m34.3/34.3 MB\u001b[0m \u001b[31m35.0 MB/s\u001b[0m eta \u001b[36m0:00:00\u001b[0m\n",
            "\u001b[?25hInstalling collected packages: rdkit\n",
            "Successfully installed rdkit-2024.9.6\n"
          ]
        }
      ],
      "source": [
        "!pip install rdkit"
      ]
    },
    {
      "cell_type": "code",
      "execution_count": 2,
      "id": "afc9bc63",
      "metadata": {
        "id": "afc9bc63",
        "tags": []
      },
      "outputs": [],
      "source": [
        "from rdkit import Chem"
      ]
    },
    {
      "cell_type": "markdown",
      "id": "d5b835ad",
      "metadata": {
        "id": "d5b835ad"
      },
      "source": [
        "## Creating Molecules with RDKit\n",
        "\n",
        "Throughout this tutorial, it will be helpful to have access to the [RDKit documentation](https://www.rdkit.org/docs/index.html).\n",
        "\n",
        "To get information about molecules in RDKit, we have to first create objects representing molecules. RDKit has a molecule object that can be used to retrieve information or calculate properties. To create a molecule object, we have to communicate the molecule identity in a way that computers understand.\n",
        "\n",
        "We will use SMILES strings to create our objects, though RDKit also has methods for creating molecules from the file formats listed in the previous notebook.\n",
        "\n",
        "### Creating molecules using SMILES\n",
        "\n",
        "In the last lesson, we learned about molecular representations using SMILES strings. Now we will use SMILES strings to create molecule objects in RDKIT.\n",
        "\n",
        "We can create a representation of methane using RDKit by using the `MolFromSmiles` function in `rdkit.Chem`."
      ]
    },
    {
      "cell_type": "code",
      "execution_count": 8,
      "id": "40b29a7c",
      "metadata": {
        "id": "40b29a7c",
        "tags": []
      },
      "outputs": [],
      "source": [
        "methane = Chem.MolFromSmiles(\"C\")           # TO DO: Enter a capital C between the quote marks in the parentheses"
      ]
    },
    {
      "cell_type": "markdown",
      "id": "da5b102b-e997-47b4-8a0d-7cc5befc1b7e",
      "metadata": {
        "id": "da5b102b-e997-47b4-8a0d-7cc5befc1b7e"
      },
      "source": [
        "The `methane` variable is now an RDKit \"molecule object\".\n",
        "\n",
        "In a Jupyter environment, putting a variable that is an RDKit molecule as the only or last thing in a cell,\n",
        "will result in a picture of the molecule as an output."
      ]
    },
    {
      "cell_type": "code",
      "execution_count": 9,
      "id": "99734c44",
      "metadata": {
        "id": "99734c44",
        "tags": [],
        "outputId": "dd0c0163-0e81-4413-b881-b8824eeca26a",
        "colab": {
          "base_uri": "https://localhost:8080/",
          "height": 167
        }
      },
      "outputs": [
        {
          "output_type": "execute_result",
          "data": {
            "text/plain": [
              "<rdkit.Chem.rdchem.Mol at 0x7e76e20534c0>"
            ],
            "image/png": "[encoded data removed]"
          },
          "metadata": {},
          "execution_count": 9
        }
      ],
      "source": [
        "methane"
      ]
    },
    {
      "cell_type": "code",
      "execution_count": 12,
      "id": "fae858d1-503d-4dc9-a220-f713ed075847",
      "metadata": {
        "id": "fae858d1-503d-4dc9-a220-f713ed075847",
        "outputId": "0e0f97eb-6cfa-443f-bd75-4436399fac9f",
        "colab": {
          "base_uri": "https://localhost:8080/",
          "height": 167
        }
      },
      "outputs": [
        {
          "output_type": "execute_result",
          "data": {
            "text/plain": [
              "<rdkit.Chem.rdchem.Mol at 0x7e76e2053ca0>"
            ],
            "image/png": "[encoded data removed]"
          },
          "metadata": {},
          "execution_count": 12
        }
      ],
      "source": [
        "ethane = Chem.MolFromSmiles(\"CC\")          # TO DO: Enter a capital CC between the quote marks in the parentheses\n",
        "ethane"
      ]
    },
    {
      "cell_type": "markdown",
      "id": "e98c39d3",
      "metadata": {
        "id": "e98c39d3"
      },
      "source": [
        "<div class=\"alert alert-block alert-warning\">\n",
        "<h3>Check Your Understanding</h3>\n",
        "<p> Create RDKit molecules for the following molecules. You can look up the SMILES strings on <a href=\"https://pubchem.ncbi.nlm.nih.gov/\">PubChem</a>:\n",
        "<p>\n",
        "    <ul>\n",
        "        <li> Propane\n",
        "        <li> Ethene\n",
        "        <li> Cyclohexane\n",
        "        <li> Benzene </li>\n",
        "        <li> Acetic Acid\n",
        "    </ul>\n",
        "</p>\n",
        "<p>Create variables for each molecule. The variable names should be the molecule name (all lowercase)</p>\n",
        "</div>\n"
      ]
    },
    {
      "cell_type": "code",
      "execution_count": 26,
      "id": "bbae7a92-6647-4361-b5ed-f45363f4d249",
      "metadata": {
        "id": "bbae7a92-6647-4361-b5ed-f45363f4d249",
        "tags": []
      },
      "outputs": [],
      "source": [
        "# Your answers go here\n",
        "propane = Chem.MolFromSmiles(\"CCC\")            # TO DO: Enter the SMILES string for propane between the quote marks in the parentheses\n",
        "ethene = Chem.MolFromSmiles(\"C=C\")             # TO DO: Enter the SMILES string for ethene between the quote marks in the parentheses\n",
        "cyclohexane = Chem.MolFromSmiles(\"C1CCCCC1\")        # TO DO: Enter the SMILES string for cyclohexane between the quote marks in the parentheses\n",
        "benzene = Chem.MolFromSmiles('c1ccccc1')            # TO DO: Enter the SMILES string for benzene between the quote marks in the parentheses\n",
        "acetic_acid = Chem.MolFromSmiles(\"C(C(=O)O)\")        # TO DO: Enter the SMILES string for acetic acid between the quote marks in the parentheses"
      ]
    },
    {
      "cell_type": "code",
      "execution_count": 16,
      "id": "395bc20c-bef9-4941-a2f8-fca830baae2b",
      "metadata": {
        "id": "395bc20c-bef9-4941-a2f8-fca830baae2b",
        "outputId": "31b90ae3-844d-4b59-b68c-4224dcf94b7a",
        "colab": {
          "base_uri": "https://localhost:8080/",
          "height": 167
        }
      },
      "outputs": [
        {
          "output_type": "execute_result",
          "data": {
            "text/plain": [
              "<rdkit.Chem.rdchem.Mol at 0x7e76e2053ae0>"
            ],
            "image/png": "[encoded data removed]"
          },
          "metadata": {},
          "execution_count": 16
        }
      ],
      "source": [
        "# Try visualizing your molecules here - you visualize a molecule as putting its variable name as the last thing in a cell\n",
        "propane"
      ]
    },
    {
      "cell_type": "code",
      "execution_count": 17,
      "id": "e22a13a2-305e-458b-9caa-ba636b836e1e",
      "metadata": {
        "id": "e22a13a2-305e-458b-9caa-ba636b836e1e",
        "outputId": "95890476-5046-476b-d3dc-abf6886116e0",
        "colab": {
          "base_uri": "https://localhost:8080/",
          "height": 167
        }
      },
      "outputs": [
        {
          "output_type": "execute_result",
          "data": {
            "text/plain": [
              "<rdkit.Chem.rdchem.Mol at 0x7e76e20f0ac0>"
            ],
            "image/png": "[encoded data removed]"
          },
          "metadata": {},
          "execution_count": 17
        }
      ],
      "source": [
        "# Try visualizing your molecules here - you visualize a molecule as putting its variable name as the last thing in a cell\n",
        "ethene"
      ]
    },
    {
      "cell_type": "code",
      "execution_count": 18,
      "id": "2fc9b578-6889-43d9-85c0-0f07111053b3",
      "metadata": {
        "id": "2fc9b578-6889-43d9-85c0-0f07111053b3",
        "outputId": "9c487264-12cf-41be-981a-df4a7a13305d",
        "colab": {
          "base_uri": "https://localhost:8080/",
          "height": 167
        }
      },
      "outputs": [
        {
          "output_type": "execute_result",
          "data": {
            "text/plain": [
              "<rdkit.Chem.rdchem.Mol at 0x7e76e20f0a50>"
            ],
            "image/png": "[encoded data removed]"
          },
          "metadata": {},
          "execution_count": 18
        }
      ],
      "source": [
        "# Try visualizing your molecules here - you visualize a molecule as putting its variable name as the last thing in a cell\n",
        "cyclohexane"
      ]
    },
    {
      "cell_type": "code",
      "execution_count": 19,
      "id": "0942cfe3-0ca2-4145-baaf-c7dff83fed24",
      "metadata": {
        "id": "0942cfe3-0ca2-4145-baaf-c7dff83fed24",
        "outputId": "5e8a99dd-b9f3-4ae2-fcbd-c8694f200fd0",
        "colab": {
          "base_uri": "https://localhost:8080/",
          "height": 167
        }
      },
      "outputs": [
        {
          "output_type": "execute_result",
          "data": {
            "text/plain": [
              "<rdkit.Chem.rdchem.Mol at 0x7e76e20f09e0>"
            ],
            "image/png": "[encoded data removed]"
          },
          "metadata": {},
          "execution_count": 19
        }
      ],
      "source": [
        "# Try visualizing your molecules here - you visualize a molecule as putting its variable name as the last thing in a cell\n",
        "benzene"
      ]
    },
    {
      "cell_type": "code",
      "execution_count": 27,
      "id": "670f07a8-c1ac-41bc-b4d9-62ac7bf342fd",
      "metadata": {
        "id": "670f07a8-c1ac-41bc-b4d9-62ac7bf342fd",
        "outputId": "76f24214-69c6-470c-c386-cfaf9ff14639",
        "colab": {
          "base_uri": "https://localhost:8080/",
          "height": 167
        }
      },
      "outputs": [
        {
          "output_type": "execute_result",
          "data": {
            "text/plain": [
              "<rdkit.Chem.rdchem.Mol at 0x7e76e20f0e40>"
            ],
            "image/png": "[encoded data removed]"
          },
          "metadata": {},
          "execution_count": 27
        }
      ],
      "source": [
        "# Try visualizing your molecules here - you visualize a molecule as putting its variable name as the last thing in a cell\n",
        "acetic_acid"
      ]
    },
    {
      "cell_type": "markdown",
      "id": "ee8b5f19-d326-4c5c-a563-ef06e7890b9f",
      "metadata": {
        "id": "ee8b5f19-d326-4c5c-a563-ef06e7890b9f"
      },
      "source": [
        "## Working with RDKit Molecules\n",
        "\n",
        "RDKit molecule objects have a number of methods we can use to get more information about the molecule.\n",
        "In the next few cells, we'll look at some methods that can tell us some things about the molecules we've created.\n",
        "The next cell has settings for modifying drawing molecules. It adds labels of atom indices and sets the image size."
      ]
    },
    {
      "cell_type": "code",
      "execution_count": null,
      "id": "761d0c31-0e04-453a-9be7-cb93cb9386a5",
      "metadata": {
        "id": "761d0c31-0e04-453a-9be7-cb93cb9386a5"
      },
      "outputs": [],
      "source": [
        "from rdkit.Chem.Draw import IPythonConsole as ipc\n",
        "from rdkit.Chem import Draw\n",
        "\n",
        "# Configuration for displaying in Jupyter notebooks\n",
        "ipc.ipython_useSVG = True  # Use SVG for higher quality images\n",
        "ipc.drawOptions.addAtomIndices = True  # Show atom indices\n",
        "ipc.molSize = 250,250 # Set size of image"
      ]
    },
    {
      "cell_type": "markdown",
      "id": "07cfae6b-3159-44df-8acf-67c35a68b99d",
      "metadata": {
        "id": "07cfae6b-3159-44df-8acf-67c35a68b99d"
      },
      "source": [
        "<div class=\"alert alert-block alert-success\">\n",
        "<strong>Jupyter Skills: The Tab Key</strong>\n",
        "\n",
        "When working with Python objects in the Jupyter notebook, you can type a variable or object name to see the methods available on that object.\n",
        "\n",
        "In the cell below, type `acetic_acid.` (notice how there is a dot (`.`) at the end), then press the `tab` key.\n",
        "A list of possible methods and attributes will come up.\n",
        "\n",
        "Look through the methods until you find one that gives you the number of atoms in the molecule.\n",
        "\n",
        "</div>"
      ]
    },
    {
      "cell_type": "code",
      "execution_count": 28,
      "id": "91d1dd84-e932-4f2d-a170-dc9a15ab5447",
      "metadata": {
        "id": "91d1dd84-e932-4f2d-a170-dc9a15ab5447",
        "outputId": "80e1c0d2-9eb8-4ffb-ae03-a762e5e846b3",
        "colab": {
          "base_uri": "https://localhost:8080/"
        }
      },
      "outputs": [
        {
          "output_type": "stream",
          "name": "stdout",
          "text": [
            "Acetic acid has 4 heavy atoms.\n"
          ]
        }
      ],
      "source": [
        "# Pick a method that will tell you the number of atoms acetic acid has.\n",
        "\n",
        "x = acetic_acid.GetNumAtoms()               # TO DO: Type a period after acetic_acid and look for a function that will give you the number of atoms in the molecule\n",
        "\n",
        "print('Acetic acid has', x, 'heavy atoms.')"
      ]
    },
    {
      "cell_type": "markdown",
      "id": "c69990f5-4a31-4fa5-9787-546faab4b071",
      "metadata": {
        "id": "c69990f5-4a31-4fa5-9787-546faab4b071"
      },
      "source": [
        "<div class=\"alert alert-block alert-success\">\n",
        "<strong>Python Skills: Getting Help</strong>\n",
        "\n",
        "Is this the number of atoms you expected for a benzene molecule?\n",
        "\n",
        "We can use the `help` function on the method you found in the previous step to find a method argument to figure out a method argument to get the number of atoms we expect.\n",
        "\n",
        "</div>"
      ]
    },
    {
      "cell_type": "code",
      "execution_count": 29,
      "id": "eb159c7b-fb4f-4024-85e6-22f5d90d51ff",
      "metadata": {
        "id": "eb159c7b-fb4f-4024-85e6-22f5d90d51ff",
        "collapsed": true,
        "outputId": "0e6b1711-feac-41b5-8ca2-16c792332d13",
        "colab": {
          "base_uri": "https://localhost:8080/"
        }
      },
      "outputs": [
        {
          "output_type": "stream",
          "name": "stdout",
          "text": [
            "Help on Mol in module rdkit.Chem.rdchem object:\n",
            "\n",
            "class Mol(Boost.Python.instance)\n",
            " |  The Molecule class.\n",
            " |  \n",
            " |  In addition to the expected Atoms and Bonds, molecules contain:\n",
            " |    - a collection of Atom and Bond bookmarks indexed with integers\n",
            " |        that can be used to flag and retrieve particular Atoms or Bonds\n",
            " |        using the {get|set}{Atom|Bond}Bookmark() methods.\n",
            " |  \n",
            " |    - a set of string-valued properties. These can have arbitrary string\n",
            " |        labels and can be set and retrieved using the {set|get}Prop() methods\n",
            " |        Molecular properties can be tagged as being *computed*, in which case\n",
            " |          they will be automatically cleared under certain circumstances (when the\n",
            " |          molecule itself is modified, for example).\n",
            " |        Molecules also have the concept of *private* properties, which are tagged\n",
            " |          by beginning the property name with an underscore (_).\n",
            " |  \n",
            " |  Method resolution order:\n",
            " |      Mol\n",
            " |      Boost.Python.instance\n",
            " |      builtins.object\n",
            " |  \n",
            " |  Methods defined here:\n",
            " |  \n",
            " |  Debug lambda self, useStdout=False from rdkit.Chem.Draw.IPythonConsole.InstallIPythonRenderer.<locals>\n",
            " |  \n",
            " |  GetAtoms lambda self from rdkit.Chem\n",
            " |      returns an iterator over the atoms in the molecule\n",
            " |  \n",
            " |  GetBonds lambda self from rdkit.Chem\n",
            " |      returns an iterator over the bonds in the molecule\n",
            " |  \n",
            " |  GetSubstructMatch = _GetSubstructMatch(mol, query, *args, **kwargs) from rdkit.Chem.Draw.IPythonConsole\n",
            " |      GetSubstructMatch( (Mol)self, (Mol)query [, (bool)useChirality=False [, (bool)useQueryQueryMatches=False]]) -> object :\n",
            " |          Returns the indices of the molecule's atoms that match a substructure query.\n",
            " |          \n",
            " |            ARGUMENTS:\n",
            " |              - query: a Molecule\n",
            " |          \n",
            " |              - useChirality: enables the use of stereochemistry in the matching\n",
            " |          \n",
            " |              - useQueryQueryMatches: use query-query matching logic\n",
            " |          \n",
            " |            RETURNS: a tuple of integers\n",
            " |          \n",
            " |            NOTES:\n",
            " |               - only a single match is returned\n",
            " |               - the ordering of the indices corresponds to the atom ordering\n",
            " |                   in the query. For example, the first index is for the atom in\n",
            " |                   this molecule that matches the first atom in the query.\n",
            " |          \n",
            " |      \n",
            " |          C++ signature :\n",
            " |              _object* GetSubstructMatch(RDKit::ROMol,RDKit::ROMol [,bool=False [,bool=False]])\n",
            " |      \n",
            " |      GetSubstructMatch( (Mol)self, (MolBundle)query [, (bool)useChirality=False [, (bool)useQueryQueryMatches=False]]) -> object :\n",
            " |      \n",
            " |          C++ signature :\n",
            " |              _object* GetSubstructMatch(RDKit::ROMol,RDKit::MolBundle [,bool=False [,bool=False]])\n",
            " |      \n",
            " |      GetSubstructMatch( (Mol)self, (Mol)query, (SubstructMatchParameters)params) -> object :\n",
            " |          Returns the indices of the molecule's atoms that match a substructure query.\n",
            " |          \n",
            " |            ARGUMENTS:\n",
            " |              - query: a Molecule\n",
            " |          \n",
            " |              - params: parameters controlling the substructure match\n",
            " |          \n",
            " |            RETURNS: a tuple of integers\n",
            " |          \n",
            " |            NOTES:\n",
            " |               - only a single match is returned\n",
            " |               - the ordering of the indices corresponds to the atom ordering\n",
            " |                   in the query. For example, the first index is for the atom in\n",
            " |                   this molecule that matches the first atom in the query.\n",
            " |          \n",
            " |      \n",
            " |          C++ signature :\n",
            " |              _object* GetSubstructMatch(RDKit::ROMol,RDKit::ROMol,RDKit::SubstructMatchParameters)\n",
            " |      \n",
            " |      GetSubstructMatch( (Mol)self, (MolBundle)query, (SubstructMatchParameters)params) -> object :\n",
            " |      \n",
            " |          C++ signature :\n",
            " |              _object* GetSubstructMatch(RDKit::ROMol,RDKit::MolBundle,RDKit::SubstructMatchParameters)\n",
            " |  \n",
            " |  GetSubstructMatches = _GetSubstructMatches(mol, query, *args, **kwargs) from rdkit.Chem.Draw.IPythonConsole\n",
            " |      GetSubstructMatches( (Mol)self, (Mol)query [, (bool)uniquify=True [, (bool)useChirality=False [, (bool)useQueryQueryMatches=False [, (int)maxMatches=1000]]]]) -> object :\n",
            " |          Returns tuples of the indices of the molecule's atoms that match a substructure query.\n",
            " |          \n",
            " |            ARGUMENTS:\n",
            " |              - query: a Molecule.\n",
            " |              - uniquify: (optional) determines whether or not the matches are uniquified.\n",
            " |                          Defaults to 1.\n",
            " |          \n",
            " |              - useChirality: enables the use of stereochemistry in the matching\n",
            " |          \n",
            " |              - useQueryQueryMatches: use query-query matching logic\n",
            " |          \n",
            " |              - maxMatches: The maximum number of matches that will be returned.\n",
            " |                            In high-symmetry cases with medium-sized molecules, it is\n",
            " |                            very easy to end up with a combinatorial explosion in the\n",
            " |                            number of possible matches. This argument prevents that from\n",
            " |                            having unintended consequences\n",
            " |          \n",
            " |            RETURNS: a tuple of tuples of integers\n",
            " |          \n",
            " |            NOTE:\n",
            " |               - the ordering of the indices corresponds to the atom ordering\n",
            " |                   in the query. For example, the first index is for the atom in\n",
            " |                   this molecule that matches the first atom in the query.\n",
            " |          \n",
            " |      \n",
            " |          C++ signature :\n",
            " |              _object* GetSubstructMatches(RDKit::ROMol,RDKit::ROMol [,bool=True [,bool=False [,bool=False [,unsigned int=1000]]]])\n",
            " |      \n",
            " |      GetSubstructMatches( (Mol)self, (MolBundle)query [, (bool)uniquify=True [, (bool)useChirality=False [, (bool)useQueryQueryMatches=False [, (int)maxMatches=1000]]]]) -> object :\n",
            " |      \n",
            " |          C++ signature :\n",
            " |              _object* GetSubstructMatches(RDKit::ROMol,RDKit::MolBundle [,bool=True [,bool=False [,bool=False [,unsigned int=1000]]]])\n",
            " |      \n",
            " |      GetSubstructMatches( (Mol)self, (Mol)query, (SubstructMatchParameters)params) -> object :\n",
            " |          Returns tuples of the indices of the molecule's atoms that match a substructure query.\n",
            " |          \n",
            " |            ARGUMENTS:\n",
            " |              - query: a Molecule.\n",
            " |              - params: parameters controlling the substructure match\n",
            " |          \n",
            " |            RETURNS: a tuple of tuples of integers\n",
            " |          \n",
            " |            NOTE:\n",
            " |               - the ordering of the indices corresponds to the atom ordering\n",
            " |                   in the query. For example, the first index is for the atom in\n",
            " |                   this molecule that matches the first atom in the query.\n",
            " |          \n",
            " |      \n",
            " |          C++ signature :\n",
            " |              _object* GetSubstructMatches(RDKit::ROMol,RDKit::ROMol,RDKit::SubstructMatchParameters)\n",
            " |      \n",
            " |      GetSubstructMatches( (Mol)self, (MolBundle)query, (SubstructMatchParameters)params) -> object :\n",
            " |      \n",
            " |          C++ signature :\n",
            " |              _object* GetSubstructMatches(RDKit::ROMol,RDKit::MolBundle,RDKit::SubstructMatchParameters)\n",
            " |  \n",
            " |  ----------------------------------------------------------------------\n",
            " |  Static methods defined here:\n",
            " |  \n",
            " |  AddConformer(...)\n",
            " |      AddConformer( (Mol)self, (Conformer)conf [, (bool)assignId=False]) -> int :\n",
            " |          Add a conformer to the molecule and return the conformer ID\n",
            " |      \n",
            " |          C++ signature :\n",
            " |              unsigned int AddConformer(RDKit::ROMol {lvalue},RDKit::Conformer* [,bool=False])\n",
            " |  \n",
            " |  ClearComputedProps(...)\n",
            " |      ClearComputedProps( (Mol)self [, (bool)includeRings=True]) -> None :\n",
            " |          Removes all computed properties from the molecule.\n",
            " |          \n",
            " |          \n",
            " |      \n",
            " |          C++ signature :\n",
            " |              void ClearComputedProps(RDKit::ROMol [,bool=True])\n",
            " |  \n",
            " |  ClearProp(...)\n",
            " |      ClearProp( (Mol)self, (str)key) -> None :\n",
            " |          Removes a property from the molecule.\n",
            " |          \n",
            " |            ARGUMENTS:\n",
            " |              - key: the name of the property to clear (a string).\n",
            " |          \n",
            " |      \n",
            " |          C++ signature :\n",
            " |              void ClearProp(RDKit::ROMol,std::string)\n",
            " |  \n",
            " |  GetAromaticAtoms(...)\n",
            " |      GetAromaticAtoms( (Mol)self) -> _ROQAtomSeq :\n",
            " |          Returns a read-only sequence containing all of the molecule's aromatic Atoms.\n",
            " |          \n",
            " |      \n",
            " |          C++ signature :\n",
            " |              RDKit::ReadOnlySeq<RDKit::QueryAtomIterator_<RDKit::Atom, RDKit::ROMol>, RDKit::Atom*, RDKit::AtomCountFunctor>* GetAromaticAtoms(boost::shared_ptr<RDKit::ROMol>)\n",
            " |  \n",
            " |  GetAtomWithIdx(...)\n",
            " |      GetAtomWithIdx( (Mol)self, (int)idx) -> Atom :\n",
            " |          Returns a particular Atom.\n",
            " |          \n",
            " |            ARGUMENTS:\n",
            " |              - idx: which Atom to return\n",
            " |          \n",
            " |            NOTE: atom indices start at 0\n",
            " |          \n",
            " |      \n",
            " |          C++ signature :\n",
            " |              RDKit::Atom* GetAtomWithIdx(RDKit::ROMol {lvalue},unsigned int)\n",
            " |  \n",
            " |  GetAtomsMatchingQuery(...)\n",
            " |      GetAtomsMatchingQuery( (Mol)self, (QueryAtom)qa) -> _ROQAtomSeq :\n",
            " |          Returns a read-only sequence containing all of the atoms in a molecule that match the query atom. Atom query options are defined in the rdkit.Chem.rdqueries module.\n",
            " |          \n",
            " |      \n",
            " |          C++ signature :\n",
            " |              RDKit::ReadOnlySeq<RDKit::QueryAtomIterator_<RDKit::Atom, RDKit::ROMol>, RDKit::Atom*, RDKit::AtomCountFunctor>* GetAtomsMatchingQuery(boost::shared_ptr<RDKit::ROMol>,RDKit::QueryAtom*)\n",
            " |  \n",
            " |  GetBondBetweenAtoms(...)\n",
            " |      GetBondBetweenAtoms( (Mol)self, (int)idx1, (int)idx2) -> Bond :\n",
            " |          Returns the bond between two atoms, if there is one.\n",
            " |          \n",
            " |            ARGUMENTS:\n",
            " |              - idx1,idx2: the Atom indices\n",
            " |          \n",
            " |            Returns:\n",
            " |              The Bond between the two atoms, if such a bond exists.\n",
            " |              If there is no Bond between the atoms, None is returned instead.\n",
            " |          \n",
            " |            NOTE: bond indices start at 0\n",
            " |          \n",
            " |      \n",
            " |          C++ signature :\n",
            " |              RDKit::Bond* GetBondBetweenAtoms(RDKit::ROMol {lvalue},unsigned int,unsigned int)\n",
            " |  \n",
            " |  GetBondWithIdx(...)\n",
            " |      GetBondWithIdx( (Mol)self, (int)idx) -> Bond :\n",
            " |          Returns a particular Bond.\n",
            " |          \n",
            " |            ARGUMENTS:\n",
            " |              - idx: which Bond to return\n",
            " |          \n",
            " |            NOTE: bond indices start at 0\n",
            " |          \n",
            " |      \n",
            " |          C++ signature :\n",
            " |              RDKit::Bond* GetBondWithIdx(RDKit::ROMol {lvalue},unsigned int)\n",
            " |  \n",
            " |  GetBoolProp(...)\n",
            " |      GetBoolProp( (Mol)self, (str)key) -> bool :\n",
            " |          Returns the Bool value of the property if possible.\n",
            " |          \n",
            " |            ARGUMENTS:\n",
            " |              - key: the name of the property to return (a string).\n",
            " |          \n",
            " |            RETURNS: a bool\n",
            " |          \n",
            " |            NOTE:\n",
            " |              - If the property has not been set, a KeyError exception will be raised.\n",
            " |          \n",
            " |      \n",
            " |          C++ signature :\n",
            " |              bool GetBoolProp(RDKit::ROMol const*,std::string)\n",
            " |  \n",
            " |  GetConformer(...)\n",
            " |      GetConformer( (Mol)self [, (int)id=-1]) -> Conformer :\n",
            " |          Get the conformer with a specified ID\n",
            " |      \n",
            " |          C++ signature :\n",
            " |              RDKit::Conformer* GetConformer(RDKit::ROMol {lvalue} [,int=-1])\n",
            " |  \n",
            " |  GetConformers(...)\n",
            " |      GetConformers( (Mol)self) -> _ROConformerSeq :\n",
            " |          Returns a read-only sequence containing all of the molecule's Conformers.\n",
            " |      \n",
            " |          C++ signature :\n",
            " |              RDKit::ReadOnlySeq<std::_List_iterator<boost::shared_ptr<RDKit::Conformer> >, boost::shared_ptr<RDKit::Conformer>&, RDKit::ConformerCountFunctor>* GetConformers(boost::shared_ptr<RDKit::ROMol>)\n",
            " |  \n",
            " |  GetDoubleProp(...)\n",
            " |      GetDoubleProp( (Mol)self, (str)key) -> float :\n",
            " |          Returns the double value of the property if possible.\n",
            " |          \n",
            " |            ARGUMENTS:\n",
            " |              - key: the name of the property to return (a string).\n",
            " |          \n",
            " |            RETURNS: a double\n",
            " |          \n",
            " |            NOTE:\n",
            " |              - If the property has not been set, a KeyError exception will be raised.\n",
            " |          \n",
            " |      \n",
            " |          C++ signature :\n",
            " |              double GetDoubleProp(RDKit::ROMol const*,std::string)\n",
            " |  \n",
            " |  GetIntProp(...)\n",
            " |      GetIntProp( (Mol)self, (str)key) -> int :\n",
            " |          Returns the integer value of the property if possible.\n",
            " |          \n",
            " |            ARGUMENTS:\n",
            " |              - key: the name of the property to return (a string).\n",
            " |          \n",
            " |            RETURNS: an integer\n",
            " |          \n",
            " |            NOTE:\n",
            " |              - If the property has not been set, a KeyError exception will be raised.\n",
            " |          \n",
            " |      \n",
            " |          C++ signature :\n",
            " |              int GetIntProp(RDKit::ROMol const*,std::string)\n",
            " |  \n",
            " |  GetNumAtoms(...)\n",
            " |      GetNumAtoms( (Mol)self [, (int)onlyHeavy=-1 [, (bool)onlyExplicit=True]]) -> int :\n",
            " |          Returns the number of atoms in the molecule.\n",
            " |          \n",
            " |            ARGUMENTS:\n",
            " |              - onlyExplicit: (optional) include only explicit atoms (atoms in the molecular graph)\n",
            " |                              defaults to 1.\n",
            " |            NOTE: the onlyHeavy argument is deprecated\n",
            " |          \n",
            " |      \n",
            " |          C++ signature :\n",
            " |              int GetNumAtoms(RDKit::ROMol [,int=-1 [,bool=True]])\n",
            " |  \n",
            " |  GetNumBonds(...)\n",
            " |      GetNumBonds( (Mol)self [, (bool)onlyHeavy=True]) -> int :\n",
            " |          Returns the number of Bonds in the molecule.\n",
            " |          \n",
            " |            ARGUMENTS:\n",
            " |              - onlyHeavy: (optional) include only bonds to heavy atoms (not Hs)\n",
            " |                            defaults to 1.\n",
            " |          \n",
            " |      \n",
            " |          C++ signature :\n",
            " |              unsigned int GetNumBonds(RDKit::ROMol {lvalue} [,bool=True])\n",
            " |  \n",
            " |  GetNumConformers(...)\n",
            " |      GetNumConformers( (Mol)self) -> int :\n",
            " |          Return the number of conformations on the molecule\n",
            " |      \n",
            " |          C++ signature :\n",
            " |              unsigned int GetNumConformers(RDKit::ROMol {lvalue})\n",
            " |  \n",
            " |  GetNumHeavyAtoms(...)\n",
            " |      GetNumHeavyAtoms( (Mol)self) -> int :\n",
            " |          Returns the number of heavy atoms (atomic number >1) in the molecule.\n",
            " |          \n",
            " |          \n",
            " |      \n",
            " |          C++ signature :\n",
            " |              unsigned int GetNumHeavyAtoms(RDKit::ROMol {lvalue})\n",
            " |  \n",
            " |  GetProp(...)\n",
            " |      GetProp( (Mol)self, (str)key [, (bool)autoConvert=False]) -> object :\n",
            " |          Returns the value of the property.\n",
            " |          \n",
            " |            ARGUMENTS:\n",
            " |              - key: the name of the property to return (a string).\n",
            " |          \n",
            " |              - autoConvert: if True attempt to convert the property into a python object\n",
            " |          \n",
            " |            RETURNS: a string\n",
            " |          \n",
            " |            NOTE:\n",
            " |              - If the property has not been set, a KeyError exception will be raised.\n",
            " |          \n",
            " |      \n",
            " |          C++ signature :\n",
            " |              boost::python::api::object GetProp(RDKit::ROMol const*,std::string [,bool=False])\n",
            " |  \n",
            " |  GetPropNames(...)\n",
            " |      GetPropNames( (Mol)self [, (bool)includePrivate=False [, (bool)includeComputed=False]]) -> _vectSs :\n",
            " |          Returns a tuple with all property names for this molecule.\n",
            " |          \n",
            " |            ARGUMENTS:\n",
            " |              - includePrivate: (optional) toggles inclusion of private properties in the result set.\n",
            " |                                Defaults to 0.\n",
            " |              - includeComputed: (optional) toggles inclusion of computed properties in the result set.\n",
            " |                                Defaults to 0.\n",
            " |          \n",
            " |            RETURNS: a tuple of strings\n",
            " |          \n",
            " |      \n",
            " |          C++ signature :\n",
            " |              std::vector<std::string, std::allocator<std::string> > GetPropNames(RDKit::ROMol {lvalue} [,bool=False [,bool=False]])\n",
            " |  \n",
            " |  GetPropsAsDict(...)\n",
            " |      GetPropsAsDict( (Mol)self [, (bool)includePrivate=False [, (bool)includeComputed=False [, (bool)autoConvertStrings=True]]]) -> dict :\n",
            " |          Returns a dictionary populated with the molecules properties.\n",
            " |           n.b. Some properties are not able to be converted to python types.\n",
            " |          \n",
            " |            ARGUMENTS:\n",
            " |              - includePrivate: (optional) toggles inclusion of private properties in the result set.\n",
            " |                                Defaults to False.\n",
            " |              - includeComputed: (optional) toggles inclusion of computed properties in the result set.\n",
            " |                                Defaults to False.\n",
            " |          \n",
            " |            RETURNS: a dictionary\n",
            " |          \n",
            " |      \n",
            " |          C++ signature :\n",
            " |              boost::python::dict GetPropsAsDict(RDKit::ROMol [,bool=False [,bool=False [,bool=True]]])\n",
            " |  \n",
            " |  GetRingInfo(...)\n",
            " |      GetRingInfo( (Mol)self) -> RingInfo :\n",
            " |          Returns the number of molecule's RingInfo object.\n",
            " |          \n",
            " |          \n",
            " |      \n",
            " |          C++ signature :\n",
            " |              RDKit::RingInfo* GetRingInfo(RDKit::ROMol {lvalue})\n",
            " |  \n",
            " |  GetStereoGroups(...)\n",
            " |      GetStereoGroups( (Mol)self) -> StereoGroup_vect :\n",
            " |          Returns a list of StereoGroups defining the relative stereochemistry of the atoms.\n",
            " |          \n",
            " |      \n",
            " |          C++ signature :\n",
            " |              std::vector<RDKit::StereoGroup, std::allocator<RDKit::StereoGroup> > GetStereoGroups(RDKit::ROMol {lvalue})\n",
            " |  \n",
            " |  GetUnsignedProp(...)\n",
            " |      GetUnsignedProp( (Mol)self, (str)key) -> int :\n",
            " |          Returns the unsigned int value of the property if possible.\n",
            " |          \n",
            " |            ARGUMENTS:\n",
            " |              - key: the name of the property to return (a string).\n",
            " |          \n",
            " |            RETURNS: an unsigned integer\n",
            " |          \n",
            " |            NOTE:\n",
            " |              - If the property has not been set, a KeyError exception will be raised.\n",
            " |          \n",
            " |      \n",
            " |          C++ signature :\n",
            " |              unsigned int GetUnsignedProp(RDKit::ROMol const*,std::string)\n",
            " |  \n",
            " |  HasProp(...)\n",
            " |      HasProp( (Mol)self, (str)key) -> int :\n",
            " |          Queries a molecule to see if a particular property has been assigned.\n",
            " |          \n",
            " |            ARGUMENTS:\n",
            " |              - key: the name of the property to check for (a string).\n",
            " |          \n",
            " |      \n",
            " |          C++ signature :\n",
            " |              int HasProp(RDKit::ROMol,std::string)\n",
            " |  \n",
            " |  HasQuery(...)\n",
            " |      HasQuery( (Mol)self) -> bool :\n",
            " |          Returns if any atom or bond in molecule has a query\n",
            " |      \n",
            " |          C++ signature :\n",
            " |              bool HasQuery(RDKit::ROMol {lvalue})\n",
            " |  \n",
            " |  HasSubstructMatch(...)\n",
            " |      HasSubstructMatch( (Mol)self, (Mol)query [, (bool)recursionPossible=True [, (bool)useChirality=False [, (bool)useQueryQueryMatches=False]]]) -> bool :\n",
            " |          Queries whether or not the molecule contains a particular substructure.\n",
            " |          \n",
            " |            ARGUMENTS:\n",
            " |              - query: a Molecule\n",
            " |          \n",
            " |              - recursionPossible: (optional)\n",
            " |          \n",
            " |              - useChirality: enables the use of stereochemistry in the matching\n",
            " |          \n",
            " |              - useQueryQueryMatches: use query-query matching logic\n",
            " |          \n",
            " |            RETURNS: True or False\n",
            " |          \n",
            " |      \n",
            " |          C++ signature :\n",
            " |              bool HasSubstructMatch(RDKit::ROMol,RDKit::ROMol [,bool=True [,bool=False [,bool=False]]])\n",
            " |      \n",
            " |      HasSubstructMatch( (Mol)self, (MolBundle)query [, (bool)recursionPossible=True [, (bool)useChirality=False [, (bool)useQueryQueryMatches=False]]]) -> bool :\n",
            " |      \n",
            " |          C++ signature :\n",
            " |              bool HasSubstructMatch(RDKit::ROMol,RDKit::MolBundle [,bool=True [,bool=False [,bool=False]]])\n",
            " |      \n",
            " |      HasSubstructMatch( (Mol)self, (Mol)query, (SubstructMatchParameters)params) -> bool :\n",
            " |          Queries whether or not the molecule contains a particular substructure.\n",
            " |          \n",
            " |            ARGUMENTS:\n",
            " |              - query: a Molecule\n",
            " |          \n",
            " |              - params: parameters controlling the substructure match\n",
            " |          \n",
            " |            RETURNS: True or False\n",
            " |          \n",
            " |      \n",
            " |          C++ signature :\n",
            " |              bool HasSubstructMatch(RDKit::ROMol,RDKit::ROMol,RDKit::SubstructMatchParameters)\n",
            " |      \n",
            " |      HasSubstructMatch( (Mol)self, (MolBundle)query [, (SubstructMatchParameters)params=True]) -> bool :\n",
            " |      \n",
            " |          C++ signature :\n",
            " |              bool HasSubstructMatch(RDKit::ROMol,RDKit::MolBundle [,RDKit::SubstructMatchParameters=True])\n",
            " |  \n",
            " |  NeedsUpdatePropertyCache(...)\n",
            " |      NeedsUpdatePropertyCache( (Mol)self) -> bool :\n",
            " |          Returns true or false depending on whether implicit and explicit valence of the molecule have already been calculated.\n",
            " |          \n",
            " |          \n",
            " |      \n",
            " |          C++ signature :\n",
            " |              bool NeedsUpdatePropertyCache(RDKit::ROMol {lvalue})\n",
            " |  \n",
            " |  RemoveAllConformers(...)\n",
            " |      RemoveAllConformers( (Mol)self) -> None :\n",
            " |          Remove all the conformations on the molecule\n",
            " |      \n",
            " |          C++ signature :\n",
            " |              void RemoveAllConformers(RDKit::ROMol {lvalue})\n",
            " |  \n",
            " |  RemoveConformer(...)\n",
            " |      RemoveConformer( (Mol)self, (int)id) -> None :\n",
            " |          Remove the conformer with the specified ID\n",
            " |      \n",
            " |          C++ signature :\n",
            " |              void RemoveConformer(RDKit::ROMol {lvalue},unsigned int)\n",
            " |  \n",
            " |  SetBoolProp(...)\n",
            " |      SetBoolProp( (Mol)self, (str)key, (bool)val [, (bool)computed=False]) -> None :\n",
            " |          Sets a boolean valued molecular property\n",
            " |          \n",
            " |            ARGUMENTS:\n",
            " |              - key: the name of the property to be set (a string).\n",
            " |              - value: the property value as a bool.\n",
            " |              - computed: (optional) marks the property as being computed.\n",
            " |                          Defaults to False.\n",
            " |          \n",
            " |          \n",
            " |      \n",
            " |          C++ signature :\n",
            " |              void SetBoolProp(RDKit::ROMol,std::string,bool [,bool=False])\n",
            " |  \n",
            " |  SetDoubleProp(...)\n",
            " |      SetDoubleProp( (Mol)self, (str)key, (float)val [, (bool)computed=False]) -> None :\n",
            " |          Sets a double valued molecular property\n",
            " |          \n",
            " |            ARGUMENTS:\n",
            " |              - key: the name of the property to be set (a string).\n",
            " |              - value: the property value as a double.\n",
            " |              - computed: (optional) marks the property as being computed.\n",
            " |                          Defaults to 0.\n",
            " |          \n",
            " |          \n",
            " |      \n",
            " |          C++ signature :\n",
            " |              void SetDoubleProp(RDKit::ROMol,std::string,double [,bool=False])\n",
            " |  \n",
            " |  SetIntProp(...)\n",
            " |      SetIntProp( (Mol)self, (str)key, (int)val [, (bool)computed=False]) -> None :\n",
            " |          Sets an integer valued molecular property\n",
            " |          \n",
            " |            ARGUMENTS:\n",
            " |              - key: the name of the property to be set (an unsigned number).\n",
            " |              - value: the property value as an integer.\n",
            " |              - computed: (optional) marks the property as being computed.\n",
            " |                          Defaults to False.\n",
            " |          \n",
            " |          \n",
            " |      \n",
            " |          C++ signature :\n",
            " |              void SetIntProp(RDKit::ROMol,std::string,int [,bool=False])\n",
            " |  \n",
            " |  SetProp(...)\n",
            " |      SetProp( (Mol)self, (str)key, (str)val [, (bool)computed=False]) -> None :\n",
            " |          Sets a molecular property\n",
            " |          \n",
            " |            ARGUMENTS:\n",
            " |              - key: the name of the property to be set (a string).\n",
            " |              - value: the property value (a string).\n",
            " |              - computed: (optional) marks the property as being computed.\n",
            " |                          Defaults to False.\n",
            " |          \n",
            " |          \n",
            " |      \n",
            " |          C++ signature :\n",
            " |              void SetProp(RDKit::ROMol,std::string,std::string [,bool=False])\n",
            " |  \n",
            " |  SetUnsignedProp(...)\n",
            " |      SetUnsignedProp( (Mol)self, (str)key, (int)val [, (bool)computed=False]) -> None :\n",
            " |          Sets an unsigned integer valued molecular property\n",
            " |          \n",
            " |            ARGUMENTS:\n",
            " |              - key: the name of the property to be set (a string).\n",
            " |              - value: the property value as an unsigned integer.\n",
            " |              - computed: (optional) marks the property as being computed.\n",
            " |                          Defaults to False.\n",
            " |          \n",
            " |          \n",
            " |      \n",
            " |          C++ signature :\n",
            " |              void SetUnsignedProp(RDKit::ROMol,std::string,unsigned int [,bool=False])\n",
            " |  \n",
            " |  ToBinary(...)\n",
            " |      ToBinary( (Mol)self) -> object :\n",
            " |          Returns a binary string representation of the molecule.\n",
            " |          \n",
            " |      \n",
            " |          C++ signature :\n",
            " |              boost::python::api::object ToBinary(RDKit::ROMol)\n",
            " |      \n",
            " |      ToBinary( (Mol)self, (int)propertyFlags) -> object :\n",
            " |          Returns a binary string representation of the molecule pickling the specified properties.\n",
            " |          \n",
            " |      \n",
            " |          C++ signature :\n",
            " |              boost::python::api::object ToBinary(RDKit::ROMol,unsigned int)\n",
            " |  \n",
            " |  UpdatePropertyCache(...)\n",
            " |      UpdatePropertyCache( (Mol)self [, (bool)strict=True]) -> None :\n",
            " |          Regenerates computed properties like implicit valence and ring information.\n",
            " |          \n",
            " |          \n",
            " |      \n",
            " |          C++ signature :\n",
            " |              void UpdatePropertyCache(RDKit::ROMol {lvalue} [,bool=True])\n",
            " |  \n",
            " |  __copy__(...)\n",
            " |      __copy__( (object)self) -> object :\n",
            " |      \n",
            " |          C++ signature :\n",
            " |              boost::python::api::object __copy__(boost::python::api::object)\n",
            " |  \n",
            " |  __deepcopy__(...)\n",
            " |      __deepcopy__( (object)self, (dict)memo) -> object :\n",
            " |      \n",
            " |          C++ signature :\n",
            " |              boost::python::api::object __deepcopy__(boost::python::api::object,boost::python::dict)\n",
            " |  \n",
            " |  __getinitargs__(...)\n",
            " |      __getinitargs__( (Mol)arg1) -> tuple :\n",
            " |      \n",
            " |          C++ signature :\n",
            " |              boost::python::tuple __getinitargs__(RDKit::ROMol)\n",
            " |  \n",
            " |  __getstate__(...)\n",
            " |      __getstate__( (object)arg1) -> tuple :\n",
            " |      \n",
            " |          C++ signature :\n",
            " |              boost::python::tuple __getstate__(boost::python::api::object)\n",
            " |  \n",
            " |  __init__(...)\n",
            " |      __init__( (object)self) -> None :\n",
            " |          Constructor, takes no arguments\n",
            " |      \n",
            " |          C++ signature :\n",
            " |              void __init__(_object*)\n",
            " |      \n",
            " |      __init__( (object)self, (str)pklString) -> None :\n",
            " |      \n",
            " |          C++ signature :\n",
            " |              void __init__(_object*,std::string)\n",
            " |      \n",
            " |      __init__( (object)self, (str)pklString, (int)propertyFlags) -> None :\n",
            " |      \n",
            " |          C++ signature :\n",
            " |              void __init__(_object*,std::string,unsigned int)\n",
            " |      \n",
            " |      __init__( (object)self, (Mol)mol [, (bool)quickCopy=False [, (int)confId=-1]]) -> None :\n",
            " |      \n",
            " |          C++ signature :\n",
            " |              void __init__(_object*,RDKit::ROMol [,bool=False [,int=-1]])\n",
            " |  \n",
            " |  __reduce__ = <unnamed Boost.Python function>(...)\n",
            " |  \n",
            " |  __setstate__(...)\n",
            " |      __setstate__( (object)arg1, (tuple)arg2) -> None :\n",
            " |      \n",
            " |          C++ signature :\n",
            " |              void __setstate__(boost::python::api::object,boost::python::tuple)\n",
            " |  \n",
            " |  ----------------------------------------------------------------------\n",
            " |  Data and other attributes defined here:\n",
            " |  \n",
            " |  __getstate_manages_dict__ = True\n",
            " |  \n",
            " |  __instance_size__ = 40\n",
            " |  \n",
            " |  __safe_for_unpickling__ = True\n",
            " |  \n",
            " |  ----------------------------------------------------------------------\n",
            " |  Static methods inherited from Boost.Python.instance:\n",
            " |  \n",
            " |  __new__(*args, **kwargs) class method of Boost.Python.instance\n",
            " |      Create and return a new object.  See help(type) for accurate signature.\n",
            " |  \n",
            " |  ----------------------------------------------------------------------\n",
            " |  Data descriptors inherited from Boost.Python.instance:\n",
            " |  \n",
            " |  __dict__\n",
            " |  \n",
            " |  __weakref__\n",
            "\n"
          ]
        }
      ],
      "source": [
        "help(acetic_acid)"
      ]
    },
    {
      "cell_type": "code",
      "execution_count": 30,
      "id": "66d59a12-0dd4-4e7a-adbc-e874c4f036ec",
      "metadata": {
        "id": "66d59a12-0dd4-4e7a-adbc-e874c4f036ec",
        "outputId": "9001bb4f-b7d5-4401-8ae7-f161fcb9b4d4",
        "colab": {
          "base_uri": "https://localhost:8080/"
        }
      },
      "outputs": [
        {
          "output_type": "stream",
          "name": "stdout",
          "text": [
            "There are 4 heavy atoms in acetic acid and 8 total atoms in acetic acid.\n"
          ]
        }
      ],
      "source": [
        "# Add an argument to your function to get the number of atoms that gives you\n",
        "# the total number of atoms in acetic_acid including hydrogens\n",
        "\n",
        "x = acetic_acid.GetNumAtoms()\n",
        "y = acetic_acid.GetNumAtoms(onlyExplicit= False)          # TO DO: Insert the expression      onlyExplicit = False      inside the parentheses so that it will include hydrogens.\n",
        "\n",
        "print(f\"There are {x} heavy atoms in acetic acid and {y} total atoms in acetic acid.\")"
      ]
    },
    {
      "cell_type": "markdown",
      "id": "71567da6-cd35-4265-9c16-813c3d008456",
      "metadata": {
        "id": "71567da6-cd35-4265-9c16-813c3d008456"
      },
      "source": [
        "Each molecule is made up of RDKit atom objects and RDKit bond objects.\n",
        "If we want to get the atoms for a particular molecule, we can use the `GetAtoms` method."
      ]
    },
    {
      "cell_type": "code",
      "execution_count": 31,
      "id": "d1f14353-5f81-4c43-a7ea-8d8a5c5cfe8f",
      "metadata": {
        "id": "d1f14353-5f81-4c43-a7ea-8d8a5c5cfe8f",
        "outputId": "1ee6f1fe-63a4-4e8d-bd4c-bf60ae6d08d6",
        "colab": {
          "base_uri": "https://localhost:8080/"
        }
      },
      "outputs": [
        {
          "output_type": "stream",
          "name": "stdout",
          "text": [
            "<rdkit.Chem._GetAtomsIterator object at 0x7e76de658890>\n"
          ]
        }
      ],
      "source": [
        "acetic_acid_atoms = acetic_acid.GetAtoms()\n",
        "print(acetic_acid_atoms)"
      ]
    },
    {
      "cell_type": "markdown",
      "id": "5c674690-c889-4e43-8d39-99ec703c3534",
      "metadata": {
        "id": "5c674690-c889-4e43-8d39-99ec703c3534"
      },
      "source": [
        "<div class=\"alert alert-block alert-success\">\n",
        "<strong>Python Skills: Iterators</strong>\n",
        "\n",
        "When we look at the results of the `GetAtoms` method, it tells us that we have a `GetAtomsIterator`.\n",
        "In Python, an iterator is an object that contains values that can be looped through and indexed in.\n",
        "\n",
        "Although we haven't used this terminology before, a Python list is an example of an iterator.\n",
        "\n",
        "</div>\n",
        "\n",
        "Like a list, we can also call `len` on the iterator.\n"
      ]
    },
    {
      "cell_type": "code",
      "execution_count": 32,
      "id": "fc8318c2-0adf-48ae-b41a-c4cf99f129d8",
      "metadata": {
        "id": "fc8318c2-0adf-48ae-b41a-c4cf99f129d8",
        "outputId": "8fbedca3-bab1-433d-859b-2549444471aa",
        "colab": {
          "base_uri": "https://localhost:8080/"
        }
      },
      "outputs": [
        {
          "output_type": "execute_result",
          "data": {
            "text/plain": [
              "4"
            ]
          },
          "metadata": {},
          "execution_count": 32
        }
      ],
      "source": [
        "len(acetic_acid_atoms)"
      ]
    },
    {
      "cell_type": "markdown",
      "id": "578df920-172d-4d23-a42b-7cb9a27a4903",
      "metadata": {
        "id": "578df920-172d-4d23-a42b-7cb9a27a4903"
      },
      "source": [
        "Because `acetic_acid_atoms` is an iterator, we can use indexing to get a particular atom.\n",
        "Atoms in RDKit molecules are represented by Atom objects."
      ]
    },
    {
      "cell_type": "code",
      "execution_count": 33,
      "id": "9af16d3f-b730-4f5d-8763-75470ef5995b",
      "metadata": {
        "id": "9af16d3f-b730-4f5d-8763-75470ef5995b",
        "outputId": "a70fb67b-9175-40f7-a6ff-9254d6376e41",
        "colab": {
          "base_uri": "https://localhost:8080/"
        }
      },
      "outputs": [
        {
          "output_type": "execute_result",
          "data": {
            "text/plain": [
              "<rdkit.Chem.rdchem.Atom at 0x7e76de4cb610>"
            ]
          },
          "metadata": {},
          "execution_count": 33
        }
      ],
      "source": [
        "atom = acetic_acid_atoms[0]\n",
        "atom"
      ]
    },
    {
      "cell_type": "markdown",
      "id": "15254adb-2bff-4b0c-8a59-4001cf55b5bd",
      "metadata": {
        "id": "15254adb-2bff-4b0c-8a59-4001cf55b5bd"
      },
      "source": [
        "When we examine one atom, we see there that there are many methods associated with the atom.\n",
        "For example, we can print the atom element or atom hybridization."
      ]
    },
    {
      "cell_type": "code",
      "execution_count": 34,
      "id": "c438feec-6021-4403-948c-924cd5a9afa1",
      "metadata": {
        "id": "c438feec-6021-4403-948c-924cd5a9afa1",
        "outputId": "cb4035aa-ba35-4f97-8598-1da9737c0051",
        "colab": {
          "base_uri": "https://localhost:8080/"
        }
      },
      "outputs": [
        {
          "output_type": "stream",
          "name": "stdout",
          "text": [
            "C\n",
            "SP3\n"
          ]
        }
      ],
      "source": [
        "print(atom.GetSymbol())             # TO DO: Type a . after atom and look for a method that will print out the symbol for the atom\n",
        "print(atom.GetHybridization())             # TO DO: Type a . after atom and look for a method that will tell you the hydridization of the atom"
      ]
    },
    {
      "cell_type": "markdown",
      "id": "36750053-e4d8-4ce1-a8ff-4b71f5c33a0d",
      "metadata": {
        "id": "36750053-e4d8-4ce1-a8ff-4b71f5c33a0d"
      },
      "source": [
        "We can use a for loop to give information about each atom."
      ]
    },
    {
      "cell_type": "code",
      "execution_count": null,
      "id": "f93df84c-f808-493a-a7d1-07e75841cdbb",
      "metadata": {
        "id": "f93df84c-f808-493a-a7d1-07e75841cdbb"
      },
      "outputs": [],
      "source": [
        "for atom in acetic_acid_atoms:                                                      # We can do this because acetic_acid_atoms is an iterator\n",
        "    print(f\"Atom {atom.GetSymbol()} has hybridization {atom.GetHybridization()}\")"
      ]
    },
    {
      "cell_type": "markdown",
      "id": "3a32c170-b190-4def-a24e-721f2bf9c50e",
      "metadata": {
        "id": "3a32c170-b190-4def-a24e-721f2bf9c50e"
      },
      "source": [
        "Bonds are also objects in RDKit, and we can iterate over them the same way we can iterate over atoms."
      ]
    },
    {
      "cell_type": "code",
      "execution_count": null,
      "id": "64a6fb8f-bfc2-45a6-8659-641a6c47f574",
      "metadata": {
        "id": "64a6fb8f-bfc2-45a6-8659-641a6c47f574"
      },
      "outputs": [],
      "source": [
        "acetic_acid_bonds = acetic_acid.GetBonds()\n",
        "bond = acetic_acid_bonds[0]"
      ]
    },
    {
      "cell_type": "code",
      "execution_count": null,
      "id": "7af42942-0bf1-49c0-9478-ad162495c92e",
      "metadata": {
        "id": "7af42942-0bf1-49c0-9478-ad162495c92e"
      },
      "outputs": [],
      "source": [
        "bond.GetBondType()"
      ]
    },
    {
      "cell_type": "markdown",
      "id": "1288c516-437e-4651-ba08-79592621793e",
      "metadata": {
        "id": "1288c516-437e-4651-ba08-79592621793e"
      },
      "source": [
        "<div class=\"alert alert-block alert-warning\">\n",
        "<h3>Challenge</h3>\n",
        "\n",
        "Use a `for` loop to print information about each bond.\n",
        "For each bond, you should print the starting atom symbol, the ending atom symbol,\n",
        "and the bond type.\n",
        "\n",
        "Your output should look like the following:\n",
        "\n",
        "```\n",
        "Bond between C and C is a SINGLE bond.\n",
        "Bond between C and O is a DOUBLE bond.\n",
        "Bond between C and O is a SINGLE bond.\n",
        "```\n",
        "\n",
        "</div>"
      ]
    },
    {
      "cell_type": "code",
      "execution_count": null,
      "id": "71c91dce-e046-46ea-a74f-069f9aba99f6",
      "metadata": {
        "id": "71c91dce-e046-46ea-a74f-069f9aba99f6"
      },
      "outputs": [],
      "source": [
        "for bond in acetic_acid_bonds:\n",
        "    start_atom = bond.GetBeginAtom()\n",
        "    end_atom = bond.GetEndAtom()\n",
        "    bond_type = bond.GetBondType()\n",
        "    print(f\"Bond between {start_atom.GetSymbol()} and {end_atom.GetSymbol()} is a {bond_type} bond.\")\n"
      ]
    },
    {
      "cell_type": "markdown",
      "id": "c076e9e2-1b3d-4979-bfb5-aa4e643b813b",
      "metadata": {
        "id": "c076e9e2-1b3d-4979-bfb5-aa4e643b813b"
      },
      "source": [
        "## Editing Atoms with RDKit\n",
        "\n",
        "In addition to seeing information about atoms and bonds in our molecule, we can also use RDKit to change our molecule structure.\n",
        "Let's consider benzene for our example. We will change one of the carbons in the benzene ring to a nitrogen to make pyridine.\n",
        "\n",
        "We are going to create a copy of our benzene molecule using another function from RDKit called `RWMol`. `RWMol` makes our molecule readable and writeable (or \"editable\")."
      ]
    },
    {
      "cell_type": "code",
      "execution_count": null,
      "id": "382e0906-f3cb-4413-9bee-b1a2f2f1f718",
      "metadata": {
        "id": "382e0906-f3cb-4413-9bee-b1a2f2f1f718"
      },
      "outputs": [],
      "source": [
        "pyridine = Chem.RWMol()             # TO DO: we will create pyridine from benzene, an RDKit mol object we already created in this noteobook\n",
        "pyridine                            # but you can see it's still benzene, not pyridine"
      ]
    },
    {
      "cell_type": "markdown",
      "id": "d0bd6d4f-0d4d-4536-9bf0-79e596fa01c8",
      "metadata": {
        "id": "d0bd6d4f-0d4d-4536-9bf0-79e596fa01c8"
      },
      "source": [
        "One way we can change molecules in RDKit is to set the atomic number of a particular atom to another number.\n",
        "To change one of the carbons in our ring to nitrogen, we can select one of the atoms and then set its atomic number to that of nitrogen (7)."
      ]
    },
    {
      "cell_type": "code",
      "execution_count": null,
      "id": "6f852ffe-d424-413f-8ce3-0d6e82b3324c",
      "metadata": {
        "id": "6f852ffe-d424-413f-8ce3-0d6e82b3324c"
      },
      "outputs": [],
      "source": [
        "atom = pyridine.GetAtomWithIdx()     # TO DO: Get atom with index 0 (labeled 0 above)\n",
        "atom.SetAtomicNum()                  # TO DO: Set the atomic number to 7\n",
        "pyridine"
      ]
    },
    {
      "cell_type": "code",
      "execution_count": null,
      "id": "63eb53d6-af12-4b67-bede-1faaf9f760a6",
      "metadata": {
        "id": "63eb53d6-af12-4b67-bede-1faaf9f760a6"
      },
      "outputs": [],
      "source": [
        "Chem.MolToSmiles(pyridine)"
      ]
    },
    {
      "cell_type": "markdown",
      "id": "607cba74-d60d-43a2-befa-11b74777580c",
      "metadata": {
        "id": "607cba74-d60d-43a2-befa-11b74777580c"
      },
      "source": [
        "<div class=\"alert alert-block alert-warning\">\n",
        "<h3>Challenge</h3>\n",
        "\n",
        "Change another atom in the pyridine ring to create [pyrimidine](https://en.wikipedia.org/wiki/Pyrimidine).\n",
        "\n",
        "</div>"
      ]
    },
    {
      "cell_type": "code",
      "execution_count": null,
      "id": "d31fdcc6-6fdd-4fc2-b820-2bc17fcd3048",
      "metadata": {
        "id": "d31fdcc6-6fdd-4fc2-b820-2bc17fcd3048"
      },
      "outputs": [],
      "source": [
        "pyrimidine = Chem.RWMol()               # TO DO: Create pyrimidine by starting with pyridine\n",
        "atom = pyrimidine.GetAtomWithIdx()      # TO DO: Get atom with index 2 (labeled 2 above)\n",
        "atom.SetAtomicNum()                     # TO DO: Set the atomic number to 7\n",
        "pyrimidine"
      ]
    },
    {
      "cell_type": "code",
      "execution_count": null,
      "id": "a62f8686-83aa-4dc8-841e-2eb4e931b375",
      "metadata": {
        "id": "a62f8686-83aa-4dc8-841e-2eb4e931b375"
      },
      "outputs": [],
      "source": []
    },
    {
      "cell_type": "markdown",
      "id": "021f75c5-a9d2-4767-935c-8a46d4f22812",
      "metadata": {
        "id": "021f75c5-a9d2-4767-935c-8a46d4f22812"
      },
      "source": [
        "## Combining two molecules\n",
        "\n",
        "We can also create and combine molecules using RDKit. This approach might be necessary when we want to add a more complex functional group. In the example below we create a carboxyl group and add it to benzene to make benzoic acid.\n",
        "\n",
        "First we create the molecule for our functional group."
      ]
    },
    {
      "cell_type": "code",
      "execution_count": null,
      "id": "1ca7648c-8857-405c-a747-8c41ee5db922",
      "metadata": {
        "id": "1ca7648c-8857-405c-a747-8c41ee5db922"
      },
      "outputs": [],
      "source": [
        "carboxyl = Chem.MolFromSmiles('C(=O)O')\n",
        "carboxyl"
      ]
    },
    {
      "cell_type": "markdown",
      "id": "3f81da17-5b67-486c-821e-74cba04c053d",
      "metadata": {
        "id": "3f81da17-5b67-486c-821e-74cba04c053d"
      },
      "source": [
        "Next, we combine the two molecules together using the `CombineMols` function."
      ]
    },
    {
      "cell_type": "code",
      "execution_count": null,
      "id": "13dd67a7-afd2-4698-92e5-455bbdeca12a",
      "metadata": {
        "id": "13dd67a7-afd2-4698-92e5-455bbdeca12a"
      },
      "outputs": [],
      "source": [
        "combined = Chem.CombineMols(benzene, carboxyl)\n",
        "combined"
      ]
    },
    {
      "cell_type": "markdown",
      "id": "ec93dc59-4468-446e-a03f-b2715597c45c",
      "metadata": {
        "id": "ec93dc59-4468-446e-a03f-b2715597c45c"
      },
      "source": [
        "After the combining, we have to make our combined molecules editable so that we can change the bonds and atoms."
      ]
    },
    {
      "cell_type": "code",
      "execution_count": null,
      "id": "5459cbf8-5773-43a5-b947-03fcd8da515d",
      "metadata": {
        "id": "5459cbf8-5773-43a5-b947-03fcd8da515d"
      },
      "outputs": [],
      "source": [
        "editable_mol = Chem.RWMol(combined)\n",
        "editable_mol"
      ]
    },
    {
      "cell_type": "markdown",
      "id": "ddbcf42c-2c42-437d-aca1-88fd8ba4475a",
      "metadata": {
        "id": "ddbcf42c-2c42-437d-aca1-88fd8ba4475a"
      },
      "source": [
        "Finally, we can use `AddBonds` to add a bond between the carbon on our carboxyl group (6) to an atom on benzene. We could have picked any carbon, but the example below uses index 5."
      ]
    },
    {
      "cell_type": "code",
      "execution_count": null,
      "id": "7e6035b7-3594-4e20-8347-254d9f951bcf",
      "metadata": {
        "id": "7e6035b7-3594-4e20-8347-254d9f951bcf"
      },
      "outputs": [],
      "source": [
        "editable_mol.AddBond(0, 6, order=Chem.rdchem.BondType.SINGLE)"
      ]
    },
    {
      "cell_type": "code",
      "execution_count": null,
      "id": "07b045f6-f06d-4348-b547-900164d014ea",
      "metadata": {
        "id": "07b045f6-f06d-4348-b547-900164d014ea"
      },
      "outputs": [],
      "source": [
        "editable_mol"
      ]
    },
    {
      "cell_type": "markdown",
      "id": "be786a94-cab6-4597-b139-267568eac415",
      "metadata": {
        "id": "be786a94-cab6-4597-b139-267568eac415"
      },
      "source": [
        "<div class=\"alert alert-block alert-info\">\n",
        "<strong>Molecular Sanitization</strong>\n",
        "\n",
        "When a molecule is loaded into RDKit, a [\"molecular sanitization\"](https://www.rdkit.org/docs/RDKit_Book.html#molecular-sanitization) step typically takes place.\n",
        "Molecular sanitization ensures that molecules are \"reasonable\":that they can be represented with octet-complete Lewis dot structures.\n",
        "</div>\n",
        "\n",
        "After we add new atoms like this, our molecule usually needs to be \"sanitized\". One way we can tell this is by viewing the molecule above. Our aromatic ring structure is now symbolized with a dotted line inside of the ring. We will want to use the `Chem.SanitizeMol` method to sanitize the molecule.\n",
        "The step of sanitiziation that is important in this case is the `Kekulize` step, where aromatic rings are converted to the Kekule form. A Python error (exception) would occur if a problem is found with aromaticity."
      ]
    },
    {
      "cell_type": "code",
      "execution_count": null,
      "id": "fa9dbe5c-32cc-438d-9aca-aa3e1b515836",
      "metadata": {
        "id": "fa9dbe5c-32cc-438d-9aca-aa3e1b515836"
      },
      "outputs": [],
      "source": [
        "Chem.SanitizeMol(editable_mol)\n",
        "editable_mol"
      ]
    },
    {
      "cell_type": "markdown",
      "id": "cf0b95ef-bf40-4349-bbd4-1eaa3e47982e",
      "metadata": {
        "id": "cf0b95ef-bf40-4349-bbd4-1eaa3e47982e"
      },
      "source": [
        "<div class=\"alert alert-block alert-warning\">\n",
        "<h2>Final Challenge</h2>\n",
        "\n",
        "[Protein phoshorylation](https://www.thermofisher.com/us/en/home/life-science/protein-biology/protein-biology-learning-center/protein-biology-resource-library/pierce-protein-methods/phosphorylation.html) refers to the additon of a phosphate group to the -OH group of an amino acid and occurs for serine, threonine, or tyrosine residues.\n",
        "\n",
        "For this challenge, you should modify the tyrosine module (given below) to add a phosphate to the OH group.\n",
        "\n",
        "</div>"
      ]
    },
    {
      "cell_type": "code",
      "execution_count": null,
      "id": "41f63879-b4e0-44af-b57e-69d61a738a79",
      "metadata": {
        "id": "41f63879-b4e0-44af-b57e-69d61a738a79"
      },
      "outputs": [],
      "source": [
        "tyrosine = Chem.MolFromSmiles(\"\")     # TO DO: Go to the PubChem site to get the SMILES string for tyrosine and place it between the quote marks\n",
        "tyrosine"
      ]
    },
    {
      "cell_type": "code",
      "execution_count": null,
      "id": "68f3753a-c5b2-4102-b3ac-b5d90dc60019",
      "metadata": {
        "id": "68f3753a-c5b2-4102-b3ac-b5d90dc60019"
      },
      "outputs": [],
      "source": [
        "phosphate = Chem.MolFromSmiles(\"\")    # TO DO: Write the SMILES string for a phosphate group (phosphorous bound to 3 oxygens)\n",
        "phosphate"
      ]
    },
    {
      "cell_type": "code",
      "execution_count": null,
      "id": "5372f1c9-c22e-4ea0-8bef-a996dd7a3485",
      "metadata": {
        "id": "5372f1c9-c22e-4ea0-8bef-a996dd7a3485"
      },
      "outputs": [],
      "source": [
        "combined2 = Chem.CombineMols()        # TO DO: Place the names of the two RDKit mol objects you want to combine in the parentheses\n",
        "combined2"
      ]
    },
    {
      "cell_type": "code",
      "execution_count": null,
      "id": "91b5aae7-8c31-4e7b-9b2e-f0c5281e7b6c",
      "metadata": {
        "id": "91b5aae7-8c31-4e7b-9b2e-f0c5281e7b6c"
      },
      "outputs": [],
      "source": [
        "editable_mol2 = Chem.RWMol()          # TO DO: Make your new set of molecules editable (RW stands for Read Write)"
      ]
    },
    {
      "cell_type": "code",
      "execution_count": null,
      "id": "a80d18bf-87fa-4f77-aeb7-fdb07c80b812",
      "metadata": {
        "id": "a80d18bf-87fa-4f77-aeb7-fdb07c80b812"
      },
      "outputs": [],
      "source": [
        "editable_mol2.AddBond(, , order=Chem.rdchem.BondType.SINGLE)    # TO DO: Add the bond to connect the two RDKit mol objects\n",
        "editable_mol2"
      ]
    },
    {
      "cell_type": "code",
      "execution_count": null,
      "id": "fe0f047a-cac2-4e80-9ac5-ebd993f8a9d9",
      "metadata": {
        "id": "fe0f047a-cac2-4e80-9ac5-ebd993f8a9d9"
      },
      "outputs": [],
      "source": [
        "Chem.SanitizeMol(editable_mol2)       # This will clean it up\n",
        "editable_mol2"
      ]
    },
    {
      "cell_type": "code",
      "execution_count": null,
      "id": "775adf1b-9f14-4a3d-b864-05fd23dae849",
      "metadata": {
        "id": "775adf1b-9f14-4a3d-b864-05fd23dae849"
      },
      "outputs": [],
      "source": []
    }
  ],
  "metadata": {
    "colab": {
      "provenance": []
    },
    "kernelspec": {
      "display_name": "Python 3 (ipykernel)",
      "language": "python",
      "name": "python3"
    },
    "language_info": {
      "codemirror_mode": {
        "name": "ipython",
        "version": 3
      },
      "file_extension": ".py",
      "mimetype": "text/x-python",
      "name": "python",
      "nbconvert_exporter": "python",
      "pygments_lexer": "ipython3",
      "version": "3.12.2"
    },
    "vscode": {
      "interpreter": {
        "hash": "16d4a7bb199d969b1271ebe46f77414b0d9cd01b3c3983c2b2742fc6cd4503d3"
      }
    }
  },
  "nbformat": 4,
  "nbformat_minor": 5
}