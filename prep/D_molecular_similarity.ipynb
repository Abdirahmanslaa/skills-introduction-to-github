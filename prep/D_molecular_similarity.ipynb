{
  "cells": [
    {
      "cell_type": "markdown",
      "id": "10110027-0410-40ea-8950-8e4047699603",
      "metadata": {
        "id": "10110027-0410-40ea-8950-8e4047699603"
      },
      "source": [
        "<div style=\"text-align:center;\">\n",
        "  <img src=\"https://github.com/MolSSI-Education/iqb-2025/blob/main/images/molssi_main_outline.png?raw=true\\\" style=\"display: block; margin: 0 auto; max-height:200px;\">\n",
        "</div>\n",
        "\n",
        "\n",
        "# Cheminformatics: Molecular Similarity and Molecular Descriptors\n",
        "\n",
        "<strong>Author(s):</strong> Jessica A. Nash, The Molecular Sciences Software Institute\n",
        "\n",
        "<div class=\"alert alert-block alert-info\">\n",
        "<h2>Overview</h2>\n",
        "\n",
        "<strong>Questions:</strong>\n",
        "\n",
        "* How are molecules represented on computers for cheminformatics applications?\n",
        "\n",
        "* How can I measure the similarity of two molecules?\n",
        "\n",
        "* How can I find out if a molecule contains a particular substructure?\n",
        "\n",
        "<strong>Objectives:</strong>\n",
        "\n",
        "* Learn about graph representation of molecules.\n",
        "\n",
        "* Learn about molecular fingerprints.\n",
        "\n",
        "* Use RDKit to measure molecular similarity.\n",
        "\n",
        "</div>\n",
        "\n",
        "\n",
        "Cheminformatics is often used in the context of molecular discovery.\n",
        "For example, you might want to process a large number of molecules to find molecules that are similar to a target, or that contain a particular functional group.\n",
        "But how can you tell if two molecules are similar?\n",
        "\n",
        "A chemist looking at two molecules might be able to make a judgment based on their chemical knowledge. However, when dealing with a large number of molecules, this problem can become intractable. There are ways to detect molecular similarity on a computer that allow fast comparison and processing of molecules.\n",
        "\n",
        "## Graph Representation of Molecules\n",
        "Graph theory is a branch of mathematics that studies the properties and applications of graphs, which are structures made up of nodes (or vertices) connected by edges (or lines).\n",
        "A molecule can be represented as a graph where atoms are nodes and bonds are edges. This representation allows the use of various graph-based algorithms to analyze molecular structures.\n",
        "The figure below (borrowed from Wikipedia) shows a graph with numbered nodes (circles) connected by edges (lines).\n",
        "\n",
        "\n",
        "<div style=\"text-align:center;\">\n",
        "  <img src=\"https://github.com/MolSSI-Education/molssicheminfo/blob/master/images/molecular_graph.png?raw=true\" style=\"display: block; margin: 0 auto; max-height:300px;\">\n",
        "</div>\n",
        "\n",
        "Image from [Wikipedia: Graph theory](https://en.wikipedia.org/wiki/Graph_theory)\n",
        "\n",
        "As a chemist, you probably don't have a hard time imagining a molecule as a graph. The atoms would be \"nodes\" in the graph, while the bonds would be \"edges\".\n",
        "One can also represent bond order by changing the \"weight\" of graph edges.\n",
        "In this view, one way to tell if molecules are the same is to check that their molecular graphs are the same.\n",
        "\n",
        "### Substructure Searches\n",
        "\n",
        "A substructure search is a cheminformatics technique used to identify molecules that contain a specific pattern or structure within a larger molecule.\n",
        "\n",
        "The figure below shows the beneze substructure matched in the aspirin molecule.\n",
        "\n",
        "<div style=\"text-align:center;\">\n",
        "  <img src=\"https://github.com/MolSSI-Education/molssicheminfo/blob/master/images/substructure.png?raw=true\" style=\"display: block; margin: 0 auto; max-height:300px;\">\n",
        "</div>\n",
        "\n",
        "\n",
        "One way this can be done is with graph representation and graph theory.\n",
        "When doing substructure search using RDKit, it can check to see if the molecular graph for one molecule contains the molecular graph of a smaller molecule.\n",
        "This is a concept called \"**subgraph isomorphism**\". You can see more about this topic in this [presentation](https://www.rdkit.org/UGM/2012/Landrum_RDKit_UGM.Fingerprints.Final.pptx.pdf).\n",
        "\n",
        "This is all very nice information, but you actually don't have to fully understand it in order to do a substructure search. In the cells below, we demonstrate searching molecules for a smaller structure using substructure search. As you can see from the cells, this functionality is very nicely built into RDKit."
      ]
    },
    {
      "cell_type": "code",
      "execution_count": 6,
      "id": "nn2PUoVduv_5",
      "metadata": {
        "id": "nn2PUoVduv_5",
        "outputId": "25b534bb-0101-46df-8bc0-ac5f293cc2e9",
        "colab": {
          "base_uri": "https://localhost:8080/"
        }
      },
      "outputs": [
        {
          "output_type": "stream",
          "name": "stdout",
          "text": [
            "Requirement already satisfied: rdkit in /usr/local/lib/python3.11/dist-packages (2024.9.6)\n",
            "Requirement already satisfied: numpy in /usr/local/lib/python3.11/dist-packages (from rdkit) (2.0.2)\n",
            "Requirement already satisfied: Pillow in /usr/local/lib/python3.11/dist-packages (from rdkit) (11.2.1)\n"
          ]
        }
      ],
      "source": [
        "!pip install rdkit"
      ]
    },
    {
      "cell_type": "markdown",
      "id": "7a031ff5-bf4f-4c65-b79f-5ea81ae6fdac",
      "metadata": {
        "id": "7a031ff5-bf4f-4c65-b79f-5ea81ae6fdac"
      },
      "source": [
        "## Substracture Matches with RDKit\n",
        "\n",
        "Now we will move to RDKit and start looking at substructure matches. We'll begin with the SMILES string for caffeine (CN1C=NC2=C1C(=O)N(C(=O)N2C)C) which can be obtained from [PubChem](https://pubchem.ncbi.nlm.nih.gov/)."
      ]
    },
    {
      "cell_type": "code",
      "execution_count": 7,
      "id": "a58f4581-13c4-478d-bafe-1e0846d3b412",
      "metadata": {
        "id": "a58f4581-13c4-478d-bafe-1e0846d3b412",
        "collapsed": true,
        "outputId": "2f4dc5ef-2f03-429e-f088-8ad989496948",
        "colab": {
          "base_uri": "https://localhost:8080/",
          "height": 167
        }
      },
      "outputs": [
        {
          "output_type": "execute_result",
          "data": {
            "text/plain": [
              "<rdkit.Chem.rdchem.Mol at 0x79be20b41e70>"
            ],
            "image/png": "[encoded data removed]"
          },
          "metadata": {},
          "execution_count": 7
        }
      ],
      "source": [
        "from rdkit import Chem\n",
        "\n",
        "caffeine = Chem.MolFromSmiles('CN1C=NC2=C1C(=O)N(C(=O)N2C)C')                      # TO DO: Get the SMILES string for caffeine from PubChem(https://pubchem.ncbi.nlm.nih.gov/)\n",
        "carbonyl = Chem.MolFromSmiles('C=O')                      # TO DO: Create or find the SMILES string for a carbonyl group\n",
        "\n",
        "matches = caffeine.GetSubstructMatches(carbonyl)       # TO DO: Insert the variable that represents the substructure you want to find in caffeine in the parentheses\n",
        "\n",
        "caffeine"
      ]
    },
    {
      "cell_type": "markdown",
      "id": "32a4c55b-362f-472b-a784-105b5c4fe015",
      "metadata": {
        "id": "32a4c55b-362f-472b-a784-105b5c4fe015"
      },
      "source": [
        "As you can see above, we can define two molecules and search for one inside of the other.\n",
        "\n",
        "<div class=\"alert alert-block alert-warning\">\n",
        "<h3>Check Your Understanding</h3>\n",
        "\n",
        "Using the skills you've learned already, perform a substructure search for methyl groups in caffeine in the cell below.\n",
        "\n",
        "</div>"
      ]
    },
    {
      "cell_type": "code",
      "execution_count": 8,
      "id": "efabcc57-46cf-4742-b39a-e0261307c07f",
      "metadata": {
        "id": "efabcc57-46cf-4742-b39a-e0261307c07f",
        "outputId": "2048114c-790e-47b8-dec7-b64d2ce145e0",
        "colab": {
          "base_uri": "https://localhost:8080/",
          "height": 167
        }
      },
      "outputs": [
        {
          "output_type": "execute_result",
          "data": {
            "text/plain": [
              "<rdkit.Chem.rdchem.Mol at 0x79bdd8a047b0>"
            ],
            "image/png": "[encoded data removed]"
          },
          "metadata": {},
          "execution_count": 8
        }
      ],
      "source": [
        "# put your code for a caffeine substructure search here\n",
        "\n",
        "caffeine = Chem.MolFromSmiles('CN1C=NC2=C1C(=O)N(C(=O)N2C)C')                                # TO DO: Insert the SMILES string for caffeine\n",
        "methyl = Chem.MolFromSmiles('C')                                  # TO DO: Insert the SMILES string for a methyl group\n",
        "\n",
        "matches = caffeine.GetSubstructMatches(methyl)                         # TO DO: Look for methyl groups in caffeine\n",
        "\n",
        "caffeine"
      ]
    },
    {
      "cell_type": "markdown",
      "id": "cd03244e-945a-4265-b544-10a2dbffd5e4",
      "metadata": {
        "id": "cd03244e-945a-4265-b544-10a2dbffd5e4"
      },
      "source": [
        "From the substructure search in the cell above, you are probably seeing that you're not matching exactly what you want. In order to find just the methyl groups, we have to use yet another molecular representation.\n",
        "\n",
        "#### SMARTS Strings\n",
        "A [SMARTS (SMiles ARbitrary Target Specification)](https://en.wikipedia.org/wiki/SMILES_arbitrary_target_specification) string is a pattern-matching language for specifying substructures in molecules. It is similar to SMILES but has additional features for specifying atom and bond properties. In contrast to SMILES, SMARTS allows for specifying substructures based on patterns of atoms and bonds, rather than just specifying the exact arrangement of atoms and bonds in a molecule.\n",
        "\n",
        "In this case, we want to highlight the methyl group in caffeine, which contains a single carbon atom bonded to three hydrogen atoms. We can use a SMARTS string to define this substructure as `[CH3]`, which represents a carbon atom with three hydrogen atoms bonded to it.\n",
        "\n",
        "Using a SMARTS string is necessary in this case because simply searching for a single carbon atom with the code `carbon = Chem.MolFromSmiles('C')` highlights all carbons in the molecule, not just the methyl group. By using a SMARTS string, we can specify the exact substructure we want to highlight and avoid highlighting unintended parts of the molecule."
      ]
    },
    {
      "cell_type": "code",
      "execution_count": 10,
      "id": "1b5bba4e-91de-4c91-986b-049e0cac168c",
      "metadata": {
        "id": "1b5bba4e-91de-4c91-986b-049e0cac168c",
        "outputId": "12fce9d8-c9ca-4eb1-af2e-e08ab6ae2da6",
        "colab": {
          "base_uri": "https://localhost:8080/",
          "height": 167
        }
      },
      "outputs": [
        {
          "output_type": "execute_result",
          "data": {
            "text/plain": [
              "<rdkit.Chem.rdchem.Mol at 0x79bdd8a04a50>"
            ],
            "image/png": "[encoded data removed]"
          },
          "metadata": {},
          "execution_count": 10
        }
      ],
      "source": [
        "caffeine = Chem.MolFromSmiles(\"CN1C=NC2=C1C(=O)N(C(=O)N2C)C\")                    # TO DO: Enter the SMILES string for caffeine\n",
        "methyl_pattern = Chem.MolFromSmarts(\"[CH3]\")              # TO DO: Enter the SMARTS string for the methyl group [CH3]\n",
        "\n",
        "# Get the indices of the matching atoms\n",
        "matches = caffeine.GetSubstructMatches(methyl_pattern)             # TO DO: Enter the variable for the pattern you are looking for in caffeine\n",
        "caffeine"
      ]
    },
    {
      "cell_type": "markdown",
      "id": "89d4a8b5-0454-46bd-9805-8e72a60f08ef",
      "metadata": {
        "id": "89d4a8b5-0454-46bd-9805-8e72a60f08ef"
      },
      "source": [
        "### Exercise\n",
        "\n",
        "Create an RDKit molecule object for aspirin. You can find its SMILES representation by using [PubChem](https://pubchem.ncbi.nlm.nih.gov/).\n",
        "\n",
        "Visualize the molecule, highlighting any carboxyl groups in the structure. Use a SMARTS string to define the carboxyl group substructure.\n",
        "\n",
        "**Important:** Unless you know the rules for writing SMARTS strings (which you would have learned somewhere else, because we didn't cover it), it's unlikely that you'll guess what the SMARTS for carboxyl is. You can see a list of SMARTS strings for different functional groups [at this link](https://www.daylight.com/dayhtml_tutorials/languages/smarts/smarts_examples.html).\n",
        "\n"
      ]
    },
    {
      "cell_type": "code",
      "execution_count": 11,
      "id": "03bf284b-6730-43b6-8c5b-242d095853eb",
      "metadata": {
        "id": "03bf284b-6730-43b6-8c5b-242d095853eb",
        "outputId": "8aa4bb92-ac4e-46f7-ad09-5ce1412a0b04",
        "colab": {
          "base_uri": "https://localhost:8080/",
          "height": 167
        }
      },
      "outputs": [
        {
          "output_type": "execute_result",
          "data": {
            "text/plain": [
              "<rdkit.Chem.rdchem.Mol at 0x79bdd8a04ba0>"
            ],
            "image/png": "[encoded data removed]"
          },
          "metadata": {},
          "execution_count": 11
        }
      ],
      "source": [
        "aspirin = Chem.MolFromSmiles('CC(=O)OC1=CC=CC=C1C(=O)O')                         # TO DO: Insert the SMILES string for aspirin between the quote signs\n",
        "carboxyl_pattern = Chem.MolFromSmarts('[CX3](=O)[OX2H1]')                # TO DO: Go to https://www.daylight.com/dayhtml_tutorials/languages/smarts/smarts_examples.html to find the SMARTS string for carboxyl group\n",
        "\n",
        "# Get the indices of the matching atoms\n",
        "\n",
        "matches = aspirin.GetSubstructMatches(carboxyl_pattern)                  # TO DO: Enter the variable for the pattern you are looking for in aspirin\n",
        "aspirin\n"
      ]
    },
    {
      "cell_type": "markdown",
      "id": "4a25724d-2e54-4a1a-b5b8-3a0da72b8e97",
      "metadata": {
        "id": "4a25724d-2e54-4a1a-b5b8-3a0da72b8e97"
      },
      "source": [
        "## Molecular Fingerprints\n",
        "Molecular fingerprints are representations of molecules that are usually bit strings, or vectors of 0's and 1's. Fingerprints are built by considering the molecular structure (often as a graph representation) and applying a certain algorithm to create the vector. The image below shows a representation of a molecular fingerprint. The molecule is separated into different parts with each part setting a bit (changing a 0 to a 1) in the fingerprint.\n",
        "\n",
        "<div style=\"text-align:center;\">\n",
        "  <img src=\"https://github.com/MolSSI-Education/molssicheminfo/blob/master/images/molecular_fingerprint.png?raw=true\" style=\"display: block; margin: 0 auto; max-height:200px;\">\n",
        "</div>\n",
        "\n",
        "\n",
        "\n",
        "Image from [Chemistry LibreTexts](https://chem.libretexts.org/Courses/Intercollegiate_Courses/Cheminformatics/06%3A_Molecular_Similarity/6.01%3A_Molecular_Descriptors) [Cheminformatics Course](https://chem.libretexts.org/Courses/Intercollegiate_Courses/Cheminformatics)\n",
        "\n",
        "The exact fingerprint will depend on the algorithm that is used to construct it.\n",
        "There are many different fingerprinting algorithms. But they tend to fall into two types of groups - similarity or substructure fingerprints. A common similarity fingerprint that is used is the Morgan fingerprint. A common substructure fingerprint that is used is the [Daylight fingerprint](https://www.daylight.com/dayhtml/doc/theory/theory.finger.html) (the RDKFingerprint is a Daylight-like fingerprint).\n",
        "\n",
        "The cell below calculates the RDKit fingerprint for caffeine."
      ]
    },
    {
      "cell_type": "code",
      "execution_count": 13,
      "id": "ca97af7e-cc2c-49e1-ab71-7e8058106131",
      "metadata": {
        "id": "ca97af7e-cc2c-49e1-ab71-7e8058106131",
        "outputId": "db38710c-13f3-4323-f23c-75ad687d2467",
        "colab": {
          "base_uri": "https://localhost:8080/"
        }
      },
      "outputs": [
        {
          "output_type": "execute_result",
          "data": {
            "text/plain": [
              "rdkit.DataStructs.cDataStructs.ExplicitBitVect"
            ]
          },
          "metadata": {},
          "execution_count": 13
        }
      ],
      "source": [
        "from rdkit.Chem import AllChem\n",
        "\n",
        "aspirin = Chem.MolFromSmiles(\"CC(=O)OC1=CC=CC=C1C(=O)O\")                            # TO DO: Insert the SMILES string for aspirin\n",
        "benzene = Chem.MolFromSmiles(\"c1ccccc1\")                            # TO DO: Insert the SMILES string for benzene - Can you predict it?\n",
        "\n",
        "aspirin_fingerprint = AllChem.RDKFingerprint(aspirin)\n",
        "\n",
        "type(aspirin_fingerprint)"
      ]
    },
    {
      "cell_type": "markdown",
      "id": "c3ef1152-d5c1-40a9-a66d-0a0f3c83facc",
      "metadata": {
        "id": "c3ef1152-d5c1-40a9-a66d-0a0f3c83facc"
      },
      "source": [
        "You usually wouldn't interact with a fingerprint directly, but using RDKit we can examine it to understand more about how it works.\n",
        "We can print the bit string representation using `.ToBitString`."
      ]
    },
    {
      "cell_type": "code",
      "execution_count": 14,
      "id": "71d91ca4-4848-46ee-9441-9bb81bec48ae",
      "metadata": {
        "id": "71d91ca4-4848-46ee-9441-9bb81bec48ae",
        "outputId": "0b75a509-f3fa-47bd-aa45-da94f8f665e7",
        "colab": {
          "base_uri": "https://localhost:8080/",
          "height": 105
        }
      },
      "outputs": [
        {
          "output_type": "execute_result",
          "data": {
            "text/plain": [
              "'00000000000000000000000100000010000100000100100010101000000000100000001000100000000100000001110001000001000010000001000000000000010000000010000001000010100000000111000000100100000000000000000000101100001001001100001110000000010000000100000000110001000000000000010000000100000001000010010000000010000000001000000001000000000000100011000100000010101000000000000000100000000000000000000001001010000010000001000100000100000000001001000010010100010101010000000100000100000001010100010100110000000000000000001000101000010000000010000000000000010000000000010000000001001100000000000000000100000011000000100101000100100100000000000000000001000000000000100110100001011000000000000000001000000000100000001000000000100000000000000010010000000000010001000010000100000010011000011000000000001101001000000010101000000000000000000000000001000000100010010000100000010000110000000000011000100000000001000000000100000000000000010000110000010000110110000000100000101000001010010100000000100010100100000000101010010000000000000000000100000000010010000101000000000100001100000000001000110001011101000001101010000000001000100110000000000110000010000000000000101000000000000011100000000100001000100001000001100000100010100000000100000000011101010000000100000100100010000000001000100000000100000100000000000000010000000100000010000010000001100100000000000001100011011010010000000000000001000000110000000001010010110000000000100000011001001010010001000001000000000000000000110101001000000010000000000010100000000010001001000001001000000001001000100000000110000001000000010000000100000000100000000110000100000000010000011000100000100100000000000000000000000000000000000100000100001001101000001000011000100011000100000000000011000000010000100001000000000011000000000000100010001000010000000000000000100010000000100000000000000000000110001000001000010100010000010101100000000001010001010000000000000011000001000000001100000000001010000101000000001100000010000000000100010101000000100000000000001000000010001000000000000000000001000000001000001100000000000000000000000000000000'"
            ],
            "application/vnd.google.colaboratory.intrinsic+json": {
              "type": "string"
            }
          },
          "metadata": {},
          "execution_count": 14
        }
      ],
      "source": [
        "aspirin_fingerprint.ToBitString()"
      ]
    },
    {
      "cell_type": "markdown",
      "id": "c79828c2-5b84-43f0-bb2d-f04d95141d9a",
      "metadata": {
        "id": "c79828c2-5b84-43f0-bb2d-f04d95141d9a"
      },
      "source": [
        "If you print the benzene string, you will see a string of the same length, but with fewer bits set.\n",
        "There are fewer bits because there are fewer molecular patterns in the smaller molecule."
      ]
    },
    {
      "cell_type": "code",
      "execution_count": 15,
      "id": "9018a8f0-0e32-4e32-8cad-377e5cfe5838",
      "metadata": {
        "id": "9018a8f0-0e32-4e32-8cad-377e5cfe5838",
        "outputId": "027b8995-079c-42d1-a533-6ec613db6877",
        "colab": {
          "base_uri": "https://localhost:8080/"
        }
      },
      "outputs": [
        {
          "output_type": "stream",
          "name": "stdout",
          "text": [
            "00000000000000000000000000000000000000000000000000000000000000000000000000000000000000000000000000000001000000000000000000000000000000000000000000000000000000000100000000000000000000000000000000100000000000000000000000000000000000000000000000000000000000000000000000000000000000000000000000000010000000000000000000000000000000000010000000000000000000000000000000000000000000000000000000000000000000000000000000000000000000000000000000000000000000000000000000000000000000000000000000000000000000000000000000000000000000000000000000000000000000000000000000000000000000000000000000000000000000000000000000000000000000000000000000000000000000000000000000000000000000000000000000000000000000000000000000000000000000000000000000000000000000000000000000000000000000000000000000000000000000000000000010000000000000000000000000000000000000000000000000100000000000000000000000000000000000000000000000000000000000000000000000000000000000000000000000000000000000000000000000000000000000000000000000000000000000000000000000000000000000000010000000000000000000000000000000000000000000000000000000000000000000000000000000000000000000000000000000000000000000000000000000000000000000000000000000000000000000000000000000000000000000000000000000000000000000000000000000000000000000000000000000000000000000010000000000000000000000000000000000000000000000000000000000000000000000000000000000000000000000000000000000000000000000000000000000000000000000000000000000000000000000000000000000000000000000000000000000000000000000000000000000000000000000000000000000000000000000000000000000000000000000000000000000000000000000000000000000000000000000000000000000000000000000000000000000000000000000000000000000000000000000000000000000000000000000000000000000000000000000000000000000000000000000000000000000000000100000000000000000000000000000000000000000000000000000000000000000000000000000000000000000000000000000000100000000000000000100000000000000000000000000000000000000000000000000000000000000000000000000000000000000000000000000000000000000000000000000000000000000000000\n"
          ]
        }
      ],
      "source": [
        "benzene_fingerprint = AllChem.RDKFingerprint(benzene)            # TO DO: Insert the variable that represents the benzene mol object\n",
        "benzene_string = benzene_fingerprint.ToBitString()        # You need the parentheses after ToBitString because it is a method, but the parentheses are empty in this case.\n",
        "\n",
        "print(benzene_string)"
      ]
    },
    {
      "cell_type": "markdown",
      "id": "781dd591-b789-4283-93b2-ffe684ee61c9",
      "metadata": {
        "id": "781dd591-b789-4283-93b2-ffe684ee61c9"
      },
      "source": [
        "Using this bit string, we can do a number of different analyses.\n",
        "For example, substructure searches using bit strings check that bits that are set in the smaller molecule are also set in the larger target molecule.\n",
        "\n",
        "\n",
        "<div class=\"alert alert-block alert-warning\">\n",
        "<h3>Exercise</h3>\n",
        "\n",
        "Fill in the for loop below to check that bits set in the aspirin fingerprint string are also set in the benzene fingerprint string.\n",
        "\n",
        "</div>"
      ]
    },
    {
      "cell_type": "code",
      "execution_count": 21,
      "id": "e0869b43-18dd-4714-af92-1de49932eb2b",
      "metadata": {
        "id": "e0869b43-18dd-4714-af92-1de49932eb2b",
        "collapsed": true,
        "outputId": "920d3442-6bdf-4659-e7a9-dbd3330e7c92",
        "colab": {
          "base_uri": "https://localhost:8080/"
        }
      },
      "outputs": [
        {
          "output_type": "stream",
          "name": "stdout",
          "text": [
            "True\n",
            "True\n",
            "True\n",
            "True\n",
            "True\n",
            "True\n",
            "True\n",
            "True\n",
            "True\n",
            "True\n",
            "True\n",
            "True\n",
            "There are 12 positions where the benzene fingerprint matches the aspirin fingerprint.\n"
          ]
        }
      ],
      "source": [
        "aspirin_string = aspirin_fingerprint.ToBitString()\n",
        "num_bits = len(benzene_string)\n",
        "matches = 0\n",
        "\n",
        "for i in range(num_bits):\n",
        "    if benzene_string[i] == \"1\":\n",
        "        print(aspirin_string[i] == benzene_string[i])                                 # TO DO: enter a boolean comparison of each item in the aspirin string to each item in the benzene string\n",
        "        matches +=1                                # TO DO: increment the counter\n",
        "\n",
        "print(f\"There are {matches} positions where the benzene fingerprint matches the aspirin fingerprint.\")"
      ]
    },
    {
      "cell_type": "markdown",
      "id": "9778634e-0344-4d87-a406-c0ab48b8ff75",
      "metadata": {
        "id": "9778634e-0344-4d87-a406-c0ab48b8ff75"
      },
      "source": [
        "The above output tells us that every bit that is set in the benzene fingerprint is also set in the aspirin target. Fingerprint substructure searches are often used for faster, but less accurate substructure searches, and are commonly used for screen large numbers of molecules quickly."
      ]
    },
    {
      "cell_type": "markdown",
      "id": "c9e5ecb4-5348-4f3d-b519-4fbff21f666a",
      "metadata": {
        "id": "c9e5ecb4-5348-4f3d-b519-4fbff21f666a"
      },
      "source": [
        "### Measuring Similarity\n",
        "\n",
        "Because the fingerprints are numbers, we can measure how similar two fingerprints are using different similarity metrics.\n",
        "One common similarity metric is called the Tanimoto similarity.\n",
        " The Tanimoto similarity is calculated as follows:\n",
        "\n",
        "$$\n",
        "T(A, B) = \\frac{A \\cap B}{A + B - A \\cap B}\n",
        "$$\n",
        "\n",
        "Where:\n",
        "- $A$ and $B$: are the sets of bits in the fingerprint vectors for molecules $A$ and $B$ respectively.\n",
        "- $A \\cap B$: This represents the intersection of sets $A$ and $B$, i.e., the number of bits that are '1' (set) in both $A$ and $B$.\n",
        "- $A + B$: This is the sum of all '1' bits in both $A$ and $B$.\n",
        "- $A + B - A \\cap B$: This term represents the union of sets $A$ and $B$, calculated as the total number of unique '1' bits across both fingerprints.\n",
        "\n",
        "The Tanimoto similarity ranges from 0.0 to 1.0, with 1.0 representing identical fingerprints."
      ]
    },
    {
      "cell_type": "code",
      "execution_count": 22,
      "id": "820dd583-c661-4db5-b510-aa204e0c0f26",
      "metadata": {
        "id": "820dd583-c661-4db5-b510-aa204e0c0f26",
        "outputId": "9bb77b3c-9b16-47a5-e8ba-0b4084be9c92",
        "colab": {
          "base_uri": "https://localhost:8080/"
        }
      },
      "outputs": [
        {
          "output_type": "execute_result",
          "data": {
            "text/plain": [
              "0.03389830508474576"
            ]
          },
          "metadata": {},
          "execution_count": 22
        }
      ],
      "source": [
        "from rdkit import DataStructs\n",
        "\n",
        "DataStructs.TanimotoSimilarity(benzene_fingerprint, aspirin_fingerprint)"
      ]
    },
    {
      "cell_type": "markdown",
      "id": "75edf094-0dbb-4094-93bc-cf0cc113c51d",
      "metadata": {
        "id": "75edf094-0dbb-4094-93bc-cf0cc113c51d"
      },
      "source": [
        "<div class=\"alert alert-block alert-warning\">\n",
        "<h3>Exercise</h3>\n",
        "\n",
        "Use the Tanimoto similarity to measure if benzene is more similar to pyridine or aniline using the RDKit fingerprint. For this type of exercise, it is best to break it down in a series of steps. In this case:\n",
        "\n",
        "* Get the SMILES strings for aniline and pyridine from [PubChem](https://pubchem.ncbi.nlm.nih.gov/) and assign each to a variable.\n",
        "* Use AllChem.RDKFingerprint to generate the fingerprint for each molecule.\n",
        "* Use the TanimotoSimilarity function to compare each molecule to benzene.\n",
        "\n",
        "</div>"
      ]
    },
    {
      "cell_type": "code",
      "execution_count": 23,
      "id": "a47675e2-4294-4625-a71a-4b411566f908",
      "metadata": {
        "id": "a47675e2-4294-4625-a71a-4b411566f908",
        "outputId": "147ef2ba-1b8e-4ca4-9924-585a54e63b26",
        "colab": {
          "base_uri": "https://localhost:8080/"
        }
      },
      "outputs": [
        {
          "output_type": "stream",
          "name": "stdout",
          "text": [
            "The Tanimoto similarity of benzene and aniline is 0.3157894736842105.\n",
            "The Tanimoto similarity of benzene and pyridine is 0.22857142857142856.\n"
          ]
        }
      ],
      "source": [
        "aniline = Chem.MolFromSmiles('C1=CC=C(C=C1)N  ')                             # TO DO: Get the SMILES string for aniline from PubChem(https://pubchem.ncbi.nlm.nih.gov/)\n",
        "pyridine = Chem.MolFromSmiles('C1=CC=NC=C1')                            # TO DO: Get the SMILES string for pyridine from PubChem(https://pubchem.ncbi.nlm.nih.gov/)\n",
        "\n",
        "aniline_fingerprint = AllChem.RDKFingerprint(aniline)               # TO DO: Generate the fingerprint for aniline\n",
        "pyridine_fingerprint = AllChem.RDKFingerprint(pyridine)              # TO DO: Generate the fingerprint for pyridine\n",
        "\n",
        "similarity = DataStructs.TanimotoSimilarity(benzene_fingerprint, aniline_fingerprint)                                   # TO DO: Compare the fingerprints for benzene and aniline\n",
        "print(f\"The Tanimoto similarity of benzene and aniline is {similarity}.\")\n",
        "\n",
        "similarity = DataStructs.TanimotoSimilarity(benzene_fingerprint, pyridine_fingerprint)                                   # TO DO: Compare the fingerprints for benzene and pyridine\n",
        "print(f\"The Tanimoto similarity of benzene and pyridine is {similarity}.\")"
      ]
    },
    {
      "cell_type": "markdown",
      "id": "92228613-2c40-46c0-823b-63ec2700da07",
      "metadata": {
        "id": "92228613-2c40-46c0-823b-63ec2700da07"
      },
      "source": [
        "## Molecular Descriptors\n",
        "\n",
        "The fingerprints discussed above are examples of **molecular descriptors**.\n",
        "\n",
        "A molecular descriptor is a numerical value that represents some property of a molecule.\n",
        "If we want to be able to create a model that describes chemical behavior, we have to be able to convert information about molecules into numerical representations.\n",
        "This is where the concept of a molecular descriptor comes in.\n",
        "\n",
        "Descriptors can be 0 dimensional (molecular weight, number of heavy atoms, etc.), 1 dimensional (counts of atom types, hydrogen bond donors/acceptors), 2 dimensional (fingerprints, other graph representations), 3 dimensional (polar surface area). The dimensionality of the descriptor defines what kind of dimensional information you need about the molecule in order to define the descriptor. For example, the fingerprint, a 2D descriptor, depends on the connectivity, or 2 dimensional structure of the molecule.\n",
        "\n",
        "RDKit supports the calculation of many molecular descriptors. You can see a [full list of RDKit descriptors](https://www.rdkit.org/docs/GettingStartedInPython.html#list-of-available-descriptors) or [see the module documentation](https://www.rdkit.org/docs/source/rdkit.Chem.Descriptors.html).\n",
        "\n",
        "To get molecular descriptors from RDKit, we import the `Descriptors` module.\n",
        "\n",
        "```python\n",
        "from rdkit.Chem import Descriptors\n",
        "```\n",
        "\n",
        "To get a descriptor, you do\n",
        "\n",
        "```python\n",
        "Descriptors.descriptor_name(molecule_variable)\n",
        "\n",
        "```\n",
        "\n",
        "For example, we can calculate the molecular weight of our caffeine molecule"
      ]
    },
    {
      "cell_type": "code",
      "execution_count": 24,
      "id": "6e860c2f-672b-419f-ab2c-ee58602ab422",
      "metadata": {
        "id": "6e860c2f-672b-419f-ab2c-ee58602ab422",
        "outputId": "685e4eab-5bf9-476b-c35e-8b37897dbcd2",
        "colab": {
          "base_uri": "https://localhost:8080/"
        }
      },
      "outputs": [
        {
          "output_type": "stream",
          "name": "stdout",
          "text": [
            "194.194\n"
          ]
        }
      ],
      "source": [
        "from rdkit.Chem import Descriptors\n",
        "\n",
        "caffeine_mol_wt = Descriptors.MolWt(caffeine)     # TO DO: insert the name of the RDKit mol object for caffeine that you defined above\n",
        "print(caffeine_mol_wt)                                   # TO DO: print the molecular weight of caffeine"
      ]
    },
    {
      "cell_type": "markdown",
      "id": "7986dcba-1058-49f6-9788-5433288377bd",
      "metadata": {
        "id": "7986dcba-1058-49f6-9788-5433288377bd"
      },
      "source": [
        "RDKit provides hundreds of molecular descriptors.\n",
        "You can calculate all of the molecular descriptors for a molecule at once using `CalcMolDescriptors`.\n",
        "\n",
        "As an example of how we can apply molecular descriptors to make predictions, we will consider Lipinski's Rule of 5.\n",
        "Lipinski's Rule of 5 is a **guideline** that helps determine if a drug is likely to be absorbed well by the body. It states that good oral drugs typically have no more than 5 hydrogen bond donors, 10 hydrogen bond acceptors, a molecular weight under 500 daltons, and a log P (measure of solubility) under 5.\n",
        "\n",
        "* Molecular Weight <= 500 Da\n",
        "* No. Hydrogen Bond Donors <= 5\n",
        "* No. Hydrogen Bond Acceptors <= 10\n",
        "* LogP <= 5"
      ]
    },
    {
      "cell_type": "code",
      "execution_count": 25,
      "id": "988dcfa9-389a-42c4-bb9b-4f68666f4583",
      "metadata": {
        "id": "988dcfa9-389a-42c4-bb9b-4f68666f4583",
        "outputId": "13fe4ce3-3d6a-4eeb-a63a-b12e0b4e399b",
        "colab": {
          "base_uri": "https://localhost:8080/"
        }
      },
      "outputs": [
        {
          "output_type": "stream",
          "name": "stdout",
          "text": [
            "[True, True, True, True]\n"
          ]
        }
      ],
      "source": [
        "MW = Descriptors.MolWt(aspirin)\n",
        "HBA = Descriptors.NOCount(aspirin)\n",
        "HBD = Descriptors.NHOHCount(aspirin)\n",
        "LogP = Descriptors.MolLogP(aspirin)\n",
        "\n",
        "rules = [ MW <= 500, HBD <=5, HBA <=10, LogP <=5 ]\n",
        "print(rules)"
      ]
    },
    {
      "cell_type": "markdown",
      "id": "8cc4c878-c5c6-4cbc-9e10-91b9760b9201",
      "metadata": {
        "id": "8cc4c878-c5c6-4cbc-9e10-91b9760b9201"
      },
      "source": [
        "Based on these rules, aspirin is expected to be well-absorbed by the body.\n",
        "\n",
        "<div class=\"alert alert-block alert-warning\">\n",
        "<h2>Final Challenge</h2>\n",
        "\n",
        "Check Lipinski's Rule of 5 for [insulin](https://pubchem.ncbi.nlm.nih.gov/compound/Insulin#section=Canonical-SMILES).\n",
        "Do you expect that insulin will be well-absorbed when taken orally based on these criteria?\n",
        "</div>"
      ]
    },
    {
      "cell_type": "code",
      "execution_count": 33,
      "id": "1c0aa9ee-1f21-40c6-ae04-86c6abdeb245",
      "metadata": {
        "id": "1c0aa9ee-1f21-40c6-ae04-86c6abdeb245"
      },
      "outputs": [],
      "source": [
        "# Create an RDKit mol object for insulin, using the SMILES string for insulin from PubChem  ### i used fasta method to shorten smiles string\n",
        "insulin = Chem.MolFromFASTA('MALWMRLLPLLALLALWGPDPAAA... ')\n"
      ]
    },
    {
      "cell_type": "code",
      "execution_count": 38,
      "id": "f00ab72a-2e36-4562-b5ad-e829a2a93e8b",
      "metadata": {
        "id": "f00ab72a-2e36-4562-b5ad-e829a2a93e8b",
        "outputId": "7f0d72db-e6ef-4a34-a450-5037dc6b2fb9",
        "colab": {
          "base_uri": "https://localhost:8080/"
        }
      },
      "outputs": [
        {
          "output_type": "stream",
          "name": "stdout",
          "text": [
            "[False, False, False, True]\n"
          ]
        }
      ],
      "source": [
        "# Determine the Lipinski descriptors for insulin using the RDKit mol object for insulin\n",
        "MW = Descriptors.MolWt(insulin)\n",
        "HBA = Descriptors.NOCount(insulin)\n",
        "HBD = Descriptors.NHOHCount(insulin)\n",
        "LogP = Descriptors.MolLogP(insulin)\n",
        "rules_2 = [ MW <= 500, HBD <=5, HBA <=10, LogP <=5 ]\n",
        "print(rules_2)\n",
        "\n"
      ]
    },
    {
      "cell_type": "code",
      "execution_count": 39,
      "id": "7c22fe39-8bb3-4476-a11f-56e4e8f6508d",
      "metadata": {
        "id": "7c22fe39-8bb3-4476-a11f-56e4e8f6508d",
        "outputId": "baae81fc-7435-433e-fcf3-c7c5ce56085f",
        "colab": {
          "base_uri": "https://localhost:8080/"
        }
      },
      "outputs": [
        {
          "output_type": "stream",
          "name": "stdout",
          "text": [
            "molecular weight: 5793.643999999988\n",
            "hydrogen bond donors: 88\n",
            "hydrogen bond acceptors: 142\n",
            "logP: -19.762430000000357\n"
          ]
        }
      ],
      "source": [
        "# Determine how these descriptors compare with Lipinski's rule of 5\n",
        "print(f\"molecular weight: {MW}\")\n",
        "print(f\"hydrogen bond donors: {HBD}\")\n",
        "print(f\"hydrogen bond acceptors: {HBA}\")\n",
        "print(f\"logP: {LogP}\")"
      ]
    }
  ],
  "metadata": {
    "colab": {
      "provenance": []
    },
    "kernelspec": {
      "display_name": "Python 3 (ipykernel)",
      "language": "python",
      "name": "python3"
    },
    "language_info": {
      "codemirror_mode": {
        "name": "ipython",
        "version": 3
      },
      "file_extension": ".py",
      "mimetype": "text/x-python",
      "name": "python",
      "nbconvert_exporter": "python",
      "pygments_lexer": "ipython3",
      "version": "3.12.2"
    }
  },
  "nbformat": 4,
  "nbformat_minor": 5
}